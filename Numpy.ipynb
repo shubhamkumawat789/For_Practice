{
 "cells": [
  {
   "cell_type": "markdown",
   "id": "0739c8fa-39d7-42d8-8690-055a0401ffe7",
   "metadata": {},
   "source": [
    "# NumPy\n",
    "#### NumPy is the fundamental library for scientific computing with Python. NumPy is centered around a powerful N-dimensional array object, and it also contains useful linear algebra, Fourier transform, and random number functions"
   ]
  },
  {
   "cell_type": "markdown",
   "id": "08c43262-ea56-4083-a78b-6ed57f9ab517",
   "metadata": {},
   "source": [
    "## Creating Arrays\n",
    "#### lets import Numpy"
   ]
  },
  {
   "cell_type": "code",
   "execution_count": 1,
   "id": "ea5c833c-c4f3-4568-b50f-46c6fa660191",
   "metadata": {},
   "outputs": [],
   "source": [
    "import numpy as np"
   ]
  },
  {
   "cell_type": "markdown",
   "id": "754bb47e-34ac-4603-9ddc-b1a6fea5c4be",
   "metadata": {},
   "source": [
    "#### creating an array containing any number of zeros:"
   ]
  },
  {
   "cell_type": "code",
   "execution_count": 2,
   "id": "6009265c-1698-4034-b32b-9fb5299dde5a",
   "metadata": {},
   "outputs": [
    {
     "data": {
      "text/plain": [
       "array([0., 0., 0., 0., 0.])"
      ]
     },
     "execution_count": 2,
     "metadata": {},
     "output_type": "execute_result"
    }
   ],
   "source": [
    "np.zeros(5)"
   ]
  },
  {
   "cell_type": "markdown",
   "id": "ee7dc769-04ed-4a54-acf1-93d77e4410c9",
   "metadata": {},
   "source": [
    "#### 3*4 Matrix:"
   ]
  },
  {
   "cell_type": "code",
   "execution_count": 3,
   "id": "acb9a8ba-c566-4eae-ba55-fd2fa2d19c8a",
   "metadata": {},
   "outputs": [
    {
     "data": {
      "text/plain": [
       "array([[0., 0., 0., 0.],\n",
       "       [0., 0., 0., 0.],\n",
       "       [0., 0., 0., 0.]])"
      ]
     },
     "execution_count": 3,
     "metadata": {},
     "output_type": "execute_result"
    }
   ],
   "source": [
    "np.zeros((3,4))"
   ]
  },
  {
   "cell_type": "code",
   "execution_count": 4,
   "id": "866a8a81-0ee8-4b26-94d3-55aa23e7953b",
   "metadata": {},
   "outputs": [
    {
     "data": {
      "text/plain": [
       "array([[0., 0., 0., 0.],\n",
       "       [0., 0., 0., 0.],\n",
       "       [0., 0., 0., 0.]])"
      ]
     },
     "execution_count": 4,
     "metadata": {},
     "output_type": "execute_result"
    }
   ],
   "source": [
    "a = np.zeros((3,4))\n",
    "a"
   ]
  },
  {
   "cell_type": "markdown",
   "id": "bce3d2fa-f61e-4cd9-9b5f-6e017a243d4f",
   "metadata": {},
   "source": [
    "#### Shape of an array "
   ]
  },
  {
   "cell_type": "code",
   "execution_count": 5,
   "id": "ef16d567-e4b4-407b-8ed0-e5f16e08f76c",
   "metadata": {},
   "outputs": [
    {
     "data": {
      "text/plain": [
       "(3, 4)"
      ]
     },
     "execution_count": 5,
     "metadata": {},
     "output_type": "execute_result"
    }
   ],
   "source": [
    "a.shape"
   ]
  },
  {
   "cell_type": "markdown",
   "id": "6acd3213-176a-4533-9161-546a0da187cc",
   "metadata": {},
   "source": [
    "#### Size of an array is the total number of elements, which is the product of all axis lengths ( 3*4=12)"
   ]
  },
  {
   "cell_type": "code",
   "execution_count": 6,
   "id": "c21dda4b-09b8-4ab7-89ff-345e82a96171",
   "metadata": {},
   "outputs": [
    {
     "data": {
      "text/plain": [
       "12"
      ]
     },
     "execution_count": 6,
     "metadata": {},
     "output_type": "execute_result"
    }
   ],
   "source": [
    "a.size"
   ]
  },
  {
   "cell_type": "code",
   "execution_count": 7,
   "id": "f5d2012f-58c9-4e1d-a9fa-08b21e31a7f0",
   "metadata": {},
   "outputs": [
    {
     "data": {
      "text/plain": [
       "2"
      ]
     },
     "execution_count": 7,
     "metadata": {},
     "output_type": "execute_result"
    }
   ],
   "source": [
    "a.ndim"
   ]
  },
  {
   "cell_type": "markdown",
   "id": "a8a7b6bc-8527-46e0-98ba-67692d3d4e73",
   "metadata": {},
   "source": [
    "## N-dimensional arrays\n",
    "####  3D array"
   ]
  },
  {
   "cell_type": "code",
   "execution_count": 8,
   "id": "00a98c37-ea60-473e-b831-f7ec9e7346be",
   "metadata": {},
   "outputs": [
    {
     "data": {
      "text/plain": [
       "array([[[0., 0., 0., 0.],\n",
       "        [0., 0., 0., 0.],\n",
       "        [0., 0., 0., 0.]],\n",
       "\n",
       "       [[0., 0., 0., 0.],\n",
       "        [0., 0., 0., 0.],\n",
       "        [0., 0., 0., 0.]]])"
      ]
     },
     "execution_count": 8,
     "metadata": {},
     "output_type": "execute_result"
    }
   ],
   "source": [
    "np.zeros((2,3,4))"
   ]
  },
  {
   "cell_type": "markdown",
   "id": "65345b8e-f137-4c66-920f-4758fe7c09d0",
   "metadata": {},
   "source": [
    "## Array Type "
   ]
  },
  {
   "cell_type": "code",
   "execution_count": 9,
   "id": "0904fae7-3cbb-4cd5-a6bb-96947a4f2124",
   "metadata": {},
   "outputs": [
    {
     "data": {
      "text/plain": [
       "numpy.ndarray"
      ]
     },
     "execution_count": 9,
     "metadata": {},
     "output_type": "execute_result"
    }
   ],
   "source": [
    "type(np.zeros((2,3,4)))"
   ]
  },
  {
   "cell_type": "markdown",
   "id": "9833f48b-e452-4c43-9b17-242cf06596c6",
   "metadata": {},
   "source": [
    "## 3*4 matrix full of pi"
   ]
  },
  {
   "cell_type": "code",
   "execution_count": 10,
   "id": "35ea2782-75de-496c-aaf5-a28315c6d4f0",
   "metadata": {},
   "outputs": [
    {
     "data": {
      "text/plain": [
       "array([[3.14159265, 3.14159265, 3.14159265, 3.14159265],\n",
       "       [3.14159265, 3.14159265, 3.14159265, 3.14159265],\n",
       "       [3.14159265, 3.14159265, 3.14159265, 3.14159265]])"
      ]
     },
     "execution_count": 10,
     "metadata": {},
     "output_type": "execute_result"
    }
   ],
   "source": [
    "np.full((3,4), np.pi)"
   ]
  },
  {
   "cell_type": "markdown",
   "id": "42da649b-8ba0-4849-9143-bf2487b4de96",
   "metadata": {},
   "source": [
    "## `np.empty`"
   ]
  },
  {
   "cell_type": "code",
   "execution_count": 11,
   "id": "6d39a548-e046-4199-8af8-f6f8d4ad1780",
   "metadata": {},
   "outputs": [
    {
     "data": {
      "text/plain": [
       "array([[6.23042070e-307, 4.67296746e-307, 1.69121096e-306],\n",
       "       [1.86920328e-306, 1.29060871e-306, 0.00000000e+000]])"
      ]
     },
     "execution_count": 11,
     "metadata": {},
     "output_type": "execute_result"
    }
   ],
   "source": [
    "np.empty((2,3))"
   ]
  },
  {
   "cell_type": "markdown",
   "id": "224967b7-11b5-47fc-b8c3-c440ba847878",
   "metadata": {},
   "source": [
    "## `np.array`"
   ]
  },
  {
   "cell_type": "code",
   "execution_count": 12,
   "id": "58d8c6d7-5263-4353-868f-8ae43aeea86b",
   "metadata": {},
   "outputs": [
    {
     "data": {
      "text/plain": [
       "array([[ 1,  2,  3,  4],\n",
       "       [10, 20, 30, 40]])"
      ]
     },
     "execution_count": 12,
     "metadata": {},
     "output_type": "execute_result"
    }
   ],
   "source": [
    "np.array([[1,2,3,4], [10, 20, 30, 40]])"
   ]
  },
  {
   "cell_type": "markdown",
   "id": "33f91bdb-ad51-403e-8a40-bd4f1a57af2e",
   "metadata": {},
   "source": [
    "## `np.arange`"
   ]
  },
  {
   "cell_type": "code",
   "execution_count": 13,
   "id": "eb07fe75-efce-4806-a8c1-e0f317efa971",
   "metadata": {},
   "outputs": [
    {
     "data": {
      "text/plain": [
       "array([1, 2, 3, 4])"
      ]
     },
     "execution_count": 13,
     "metadata": {},
     "output_type": "execute_result"
    }
   ],
   "source": [
    "np.arange(1,5)"
   ]
  },
  {
   "cell_type": "markdown",
   "id": "829b7d46-348c-48bb-bcc4-d75ab2f41b78",
   "metadata": {},
   "source": [
    "#### with float:"
   ]
  },
  {
   "cell_type": "code",
   "execution_count": 14,
   "id": "ecbade3b-ed88-4c3e-8286-bf23ccb6064b",
   "metadata": {},
   "outputs": [
    {
     "data": {
      "text/plain": [
       "array([1., 2., 3., 4.])"
      ]
     },
     "execution_count": 14,
     "metadata": {},
     "output_type": "execute_result"
    }
   ],
   "source": [
    "np.arange(1.0,5.0)"
   ]
  },
  {
   "cell_type": "markdown",
   "id": "459c5a88-59d0-46ae-af90-247db3e91f7e",
   "metadata": {},
   "source": [
    "#### provide a step parameter:"
   ]
  },
  {
   "cell_type": "code",
   "execution_count": 15,
   "id": "7e4a7dbb-685f-49df-ac20-574ca63f45af",
   "metadata": {},
   "outputs": [
    {
     "data": {
      "text/plain": [
       "array([1. , 1.5, 2. , 2.5, 3. , 3.5, 4. , 4.5])"
      ]
     },
     "execution_count": 15,
     "metadata": {},
     "output_type": "execute_result"
    }
   ],
   "source": [
    "np.arange(1, 5, 0.5)"
   ]
  },
  {
   "cell_type": "markdown",
   "id": "d022c808-baa6-4ce9-abe8-4a5ebdc88bd0",
   "metadata": {},
   "source": [
    "#### when dealing with floats, the exact number of elements in the array is not always predictible"
   ]
  },
  {
   "cell_type": "code",
   "execution_count": 16,
   "id": "c0378b1c-5a3b-45f8-8e95-50d6873529d6",
   "metadata": {},
   "outputs": [
    {
     "name": "stdout",
     "output_type": "stream",
     "text": [
      "[0.         0.33333333 0.66666667 1.         1.33333333 1.66666667]\n",
      "[0.         0.33333333 0.66666667 1.         1.33333333 1.66666667]\n",
      "[0.         0.33333333 0.66666667 1.         1.33333334]\n"
     ]
    }
   ],
   "source": [
    "print(np.arange(0, 5/3, 1/3)) \n",
    "print(np.arange(0, 5/3, 0.333333333))\n",
    "print(np.arange(0, 5/3, 0.333333334))"
   ]
  },
  {
   "cell_type": "markdown",
   "id": "cb7f335b-bb6f-4557-ae69-9f0a757db4da",
   "metadata": {},
   "source": [
    "## `np.linspace`\n",
    "#### For this reason, it is generally preferable to use the `linspace` function instead of `arange` when working with floats. The linspace function returns an array containing a specific number of points evenly distributed between two values (note that the maximum value is included, contrary to arange):"
   ]
  },
  {
   "cell_type": "code",
   "execution_count": 17,
   "id": "4530367f-0544-4f8e-90bc-d002d051835a",
   "metadata": {},
   "outputs": [
    {
     "name": "stdout",
     "output_type": "stream",
     "text": [
      "[0.         0.33333333 0.66666667 1.         1.33333333 1.66666667]\n"
     ]
    }
   ],
   "source": [
    "print(np.linspace(0, 5/3, 6))"
   ]
  },
  {
   "cell_type": "markdown",
   "id": "b674afca-53af-40a9-8cce-817710438609",
   "metadata": {},
   "source": [
    "## `np.rand` and `np.randn`"
   ]
  },
  {
   "cell_type": "code",
   "execution_count": 18,
   "id": "2837109a-ae47-49e4-a9ae-25422c45d3f6",
   "metadata": {},
   "outputs": [
    {
     "data": {
      "text/plain": [
       "array([[0.5833964 , 0.87446209, 0.97983005, 0.71975048],\n",
       "       [0.64967461, 0.93874428, 0.46018342, 0.7488662 ],\n",
       "       [0.68867879, 0.76686804, 0.64947783, 0.89577944]])"
      ]
     },
     "execution_count": 18,
     "metadata": {},
     "output_type": "execute_result"
    }
   ],
   "source": [
    "np.random.rand(3,4)"
   ]
  },
  {
   "cell_type": "markdown",
   "id": "8f9761a5-455a-40df-8f62-070b03cdcbe0",
   "metadata": {},
   "source": [
    "#### 3*4 matrix containing random floats sampled from a univariate normal distribution (Gaussian distribution) of mean 0 and variance 1:"
   ]
  },
  {
   "cell_type": "code",
   "execution_count": 19,
   "id": "ff216f87-04fa-43fe-95b0-6c403e8b3506",
   "metadata": {},
   "outputs": [
    {
     "data": {
      "text/plain": [
       "array([[ 1.21179112, -0.39117587, -1.2736268 , -0.77552997],\n",
       "       [ 0.73566049,  1.01980395, -0.45866265,  0.13065919],\n",
       "       [ 0.96112967, -0.8817683 ,  1.10480859,  0.80191777]])"
      ]
     },
     "execution_count": 19,
     "metadata": {},
     "output_type": "execute_result"
    }
   ],
   "source": [
    "np.random.randn(3,4)"
   ]
  },
  {
   "cell_type": "markdown",
   "id": "8495a9ca-ba00-4552-bce9-bdc25ad31410",
   "metadata": {},
   "source": [
    "#### these Distribution look like:"
   ]
  },
  {
   "cell_type": "code",
   "execution_count": 20,
   "id": "d54734e0-4aa4-414c-a2e7-134a54bfa11d",
   "metadata": {},
   "outputs": [
    {
     "data": {
      "image/png": "[encoded data removed]",
      "text/plain": [
       "<Figure size 640x480 with 1 Axes>"
      ]
     },
     "metadata": {},
     "output_type": "display_data"
    }
   ],
   "source": [
    "%matplotlib inline\n",
    "import matplotlib.pyplot as plt\n",
    "plt.hist(np.random.rand(100000), density=True, bins=100, histtype=\"step\", color=\"blue\", label=\"rand\")\n",
    "plt.hist(np.random.randn(100000), density=True, bins=100, histtype=\"step\", color=\"red\", label=\"randn\")\n",
    "plt.axis([-2.5, 2.5, 0, 1.1])\n",
    "plt.grid()\n",
    "plt.legend(loc = \"upper left\")\n",
    "plt.title(\"Random distributions\")\n",
    "plt.xlabel(\"Value\")\n",
    "plt.ylabel(\"Density\")\n",
    "plt.show()"
   ]
  },
  {
   "cell_type": "markdown",
   "id": "89171d8a-90af-4aea-aaf4-543ee8e74bf0",
   "metadata": {},
   "source": [
    "## np.fromfunction:\n",
    "#### initialize an ndarray using a function:"
   ]
  },
  {
   "cell_type": "code",
   "execution_count": 21,
   "id": "5f2a67c7-5323-4fa1-9ffe-48b907ed88b4",
   "metadata": {},
   "outputs": [
    {
     "data": {
      "text/plain": [
       "array([[[  0.,  10.,  20.,  30.,  40.,  50.,  60.,  70.,  80.,  90.],\n",
       "        [100., 110., 120., 130., 140., 150., 160., 170., 180., 190.]],\n",
       "\n",
       "       [[  1.,  11.,  21.,  31.,  41.,  51.,  61.,  71.,  81.,  91.],\n",
       "        [101., 111., 121., 131., 141., 151., 161., 171., 181., 191.]],\n",
       "\n",
       "       [[  2.,  12.,  22.,  32.,  42.,  52.,  62.,  72.,  82.,  92.],\n",
       "        [102., 112., 122., 132., 142., 152., 162., 172., 182., 192.]]])"
      ]
     },
     "execution_count": 21,
     "metadata": {},
     "output_type": "execute_result"
    }
   ],
   "source": [
    "def my_function(z, y, x):\n",
    "    return x * 10 + y * 100 + z\n",
    "np.fromfunction(my_function, (3, 2, 10))"
   ]
  },
  {
   "cell_type": "markdown",
   "id": "c7d9752a-d5bc-4300-883d-50b71d7b9500",
   "metadata": {},
   "source": [
    "## `Array data`\n",
    "#### dtype"
   ]
  },
  {
   "cell_type": "code",
   "execution_count": 22,
   "id": "23b029ba-7557-4037-a06c-c290ee6d8d90",
   "metadata": {},
   "outputs": [
    {
     "name": "stdout",
     "output_type": "stream",
     "text": [
      "int64 [1 2 3 4]\n"
     ]
    }
   ],
   "source": [
    "c = np.arange(1, 5)\n",
    "print(c.dtype, c)"
   ]
  },
  {
   "cell_type": "code",
   "execution_count": 23,
   "id": "9cfc82ab-b297-41cb-b8d9-d7733c5ac9b9",
   "metadata": {},
   "outputs": [
    {
     "name": "stdout",
     "output_type": "stream",
     "text": [
      "float64 [1. 2. 3. 4.]\n"
     ]
    }
   ],
   "source": [
    "c = np.arange(1.0, 5.0)\n",
    "print(c.dtype, c)"
   ]
  },
  {
   "cell_type": "markdown",
   "id": "fb77f9ec-5c06-4630-90db-1c7aa3627159",
   "metadata": {},
   "source": [
    "## `itemsize`\n"
   ]
  },
  {
   "cell_type": "code",
   "execution_count": 24,
   "id": "b391ad00-ad5e-4a9d-9ae3-08b5af054f16",
   "metadata": {},
   "outputs": [
    {
     "name": "stdout",
     "output_type": "stream",
     "text": [
      "[1.+0.j 2.+0.j 3.+0.j 4.+0.j]\n"
     ]
    },
    {
     "data": {
      "text/plain": [
       "8"
      ]
     },
     "execution_count": 24,
     "metadata": {},
     "output_type": "execute_result"
    }
   ],
   "source": [
    "e = np.arange(1, 5, dtype=np.complex64)\n",
    "print(e)\n",
    "e.itemsize\n"
   ]
  },
  {
   "cell_type": "markdown",
   "id": "00c062d8-4d96-46aa-9fff-354df3b96006",
   "metadata": {},
   "source": [
    "## `data buffer`\n",
    "#### An array's data is actually stored in memory as a flat (one dimensional) byte buffer. It is available via the data attribute.\n",
    "\n"
   ]
  },
  {
   "cell_type": "code",
   "execution_count": 25,
   "id": "6a19ae1c-a878-40fe-8b53-acef895c0eb0",
   "metadata": {},
   "outputs": [
    {
     "data": {
      "text/plain": [
       "<memory at 0x000002257BDEF920>"
      ]
     },
     "execution_count": 25,
     "metadata": {},
     "output_type": "execute_result"
    }
   ],
   "source": [
    "f = np.array([[1,2], [1000, 2000]], dtype= np.int32)\n",
    "f.data"
   ]
  },
  {
   "cell_type": "markdown",
   "id": "e708374d-0c99-4298-bf7a-5a388e0bc7f1",
   "metadata": {},
   "source": [
    "#### In python 2, f.data is a buffer. In python 3, it is a memoryview."
   ]
  },
  {
   "cell_type": "code",
   "execution_count": 26,
   "id": "ef494260-7feb-410c-974c-441a3de5974f",
   "metadata": {},
   "outputs": [
    {
     "data": {
      "text/plain": [
       "b'\\x01\\x00\\x00\\x00\\x02\\x00\\x00\\x00\\xe8\\x03\\x00\\x00\\xd0\\x07\\x00\\x00'"
      ]
     },
     "execution_count": 26,
     "metadata": {},
     "output_type": "execute_result"
    }
   ],
   "source": [
    "if (hasattr(f.data, \"tobytes\")):\n",
    "    data_bytes = f.data.tobytes() #python 3\n",
    "else:\n",
    "    data_bytes = memoryview(f.data).tobytes() #python 2\n",
    "\n",
    "data_bytes"
   ]
  },
  {
   "cell_type": "markdown",
   "id": "384385af-9bb0-408e-a9eb-489aded1a994",
   "metadata": {},
   "source": [
    "## Reshaping an array\n",
    "#### Changing the shape of an ndarray is as simple as setting its shape attribute. However, the array's size must remain the same."
   ]
  },
  {
   "cell_type": "code",
   "execution_count": 27,
   "id": "cef30ec3-ac7d-47ed-9687-bc6028e2bbc3",
   "metadata": {},
   "outputs": [
    {
     "name": "stdout",
     "output_type": "stream",
     "text": [
      "[ 0  1  2  3  4  5  6  7  8  9 10 11 12 13 14 15 16 17 18 19 20 21 22 23]\n",
      "Rank: 1\n"
     ]
    }
   ],
   "source": [
    "g = np.arange(24)\n",
    "print(g)\n",
    "print(\"Rank:\", g.ndim)"
   ]
  },
  {
   "cell_type": "code",
   "execution_count": 28,
   "id": "b5488268-9229-40e4-b83d-230de0582659",
   "metadata": {},
   "outputs": [
    {
     "name": "stdout",
     "output_type": "stream",
     "text": [
      "[[ 0  1  2  3]\n",
      " [ 4  5  6  7]\n",
      " [ 8  9 10 11]\n",
      " [12 13 14 15]\n",
      " [16 17 18 19]\n",
      " [20 21 22 23]]\n",
      "Rank: 2\n"
     ]
    }
   ],
   "source": [
    "g.shape = (6, 4)\n",
    "print(g)\n",
    "print(\"Rank:\", g.ndim)"
   ]
  },
  {
   "cell_type": "code",
   "execution_count": 29,
   "id": "a300b29d-db06-454e-a6c7-e97e14b420d8",
   "metadata": {},
   "outputs": [
    {
     "name": "stdout",
     "output_type": "stream",
     "text": [
      "[[[ 0  1  2  3]\n",
      "  [ 4  5  6  7]\n",
      "  [ 8  9 10 11]]\n",
      "\n",
      " [[12 13 14 15]\n",
      "  [16 17 18 19]\n",
      "  [20 21 22 23]]]\n",
      "Rank: 3\n"
     ]
    }
   ],
   "source": [
    "g.shape = (2, 3, 4)\n",
    "print(g)\n",
    "print(\"Rank:\", g.ndim)"
   ]
  },
  {
   "cell_type": "markdown",
   "id": "7be5bab5-b864-41a9-8610-99869a029cbf",
   "metadata": {},
   "source": [
    "## `reshape`\n",
    "#### The reshape function returns a new ndarray"
   ]
  },
  {
   "cell_type": "code",
   "execution_count": 30,
   "id": "41ddc1c7-47cd-4a07-a540-4a29cb4400ff",
   "metadata": {},
   "outputs": [
    {
     "name": "stdout",
     "output_type": "stream",
     "text": [
      "[[ 0  1  2  3  4  5]\n",
      " [ 6  7  8  9 10 11]\n",
      " [12 13 14 15 16 17]\n",
      " [18 19 20 21 22 23]]\n",
      "Rank: 2\n"
     ]
    }
   ],
   "source": [
    "g2 = g.reshape(4,6)\n",
    "print(g2)\n",
    "print(\"Rank:\", g2.ndim)"
   ]
  },
  {
   "cell_type": "markdown",
   "id": "c8a2ad57-a218-41c4-a076-07e122b4bfdd",
   "metadata": {},
   "source": [
    "#### Set item at row 1, col 2 to 999"
   ]
  },
  {
   "cell_type": "code",
   "execution_count": 31,
   "id": "60e545f6-4151-44d2-8890-1c503e0b2371",
   "metadata": {},
   "outputs": [
    {
     "data": {
      "text/plain": [
       "array([[  0,   1,   2,   3,   4,   5],\n",
       "       [  6,   7, 999,   9,  10,  11],\n",
       "       [ 12,  13,  14,  15,  16,  17],\n",
       "       [ 18,  19,  20,  21,  22,  23]])"
      ]
     },
     "execution_count": 31,
     "metadata": {},
     "output_type": "execute_result"
    }
   ],
   "source": [
    "g2[1, 2] = 999\n",
    "g2"
   ]
  },
  {
   "cell_type": "markdown",
   "id": "896b8da6-d072-4f57-bc60-dda0dc6f94e9",
   "metadata": {},
   "source": [
    "#### corresponding element in g has been modified.\n"
   ]
  },
  {
   "cell_type": "code",
   "execution_count": 32,
   "id": "f594afc4-7a3a-4e3d-9e0c-05a77a58268d",
   "metadata": {},
   "outputs": [
    {
     "data": {
      "text/plain": [
       "array([[[  0,   1,   2,   3],\n",
       "        [  4,   5,   6,   7],\n",
       "        [999,   9,  10,  11]],\n",
       "\n",
       "       [[ 12,  13,  14,  15],\n",
       "        [ 16,  17,  18,  19],\n",
       "        [ 20,  21,  22,  23]]])"
      ]
     },
     "execution_count": 32,
     "metadata": {},
     "output_type": "execute_result"
    }
   ],
   "source": [
    "g"
   ]
  },
  {
   "cell_type": "markdown",
   "id": "b1a47e45-ac3a-4d02-bbab-00d8e0edb21a",
   "metadata": {},
   "source": [
    "## `ravel`\n",
    "#### the ravel function returns a new one-dimensional ndarray that also points to the same data:\n",
    "\n"
   ]
  },
  {
   "cell_type": "code",
   "execution_count": 33,
   "id": "3cc15b7f-6587-4cc0-b37d-a38806754fe1",
   "metadata": {},
   "outputs": [
    {
     "data": {
      "text/plain": [
       "array([  0,   1,   2,   3,   4,   5,   6,   7, 999,   9,  10,  11,  12,\n",
       "        13,  14,  15,  16,  17,  18,  19,  20,  21,  22,  23])"
      ]
     },
     "execution_count": 33,
     "metadata": {},
     "output_type": "execute_result"
    }
   ],
   "source": [
    "g.ravel()"
   ]
  },
  {
   "cell_type": "markdown",
   "id": "a55ba4fd-e72b-4eeb-a52e-e702c8091e56",
   "metadata": {},
   "source": [
    "## Arithmetic operations"
   ]
  },
  {
   "cell_type": "code",
   "execution_count": 34,
   "id": "f7d3c495-cfc3-4ac4-ae03-a3e28714ddd8",
   "metadata": {},
   "outputs": [
    {
     "name": "stdout",
     "output_type": "stream",
     "text": [
      "a + b  = [19 27 35 43]\n",
      "a - b  = [ 9 19 29 39]\n",
      "a * b  = [70 92 96 82]\n",
      "a / b  = [ 2.8         5.75       10.66666667 20.5       ]\n",
      "a // b  = [ 2  5 10 20]\n",
      "a % b  = [4 3 2 1]\n",
      "a ** b = [537824 279841  32768   1681]\n"
     ]
    }
   ],
   "source": [
    "a = np.array([14, 23, 32, 41])\n",
    "b = np.array([5,  4,  3,  2])\n",
    "print(\"a + b  =\", a + b)\n",
    "print(\"a - b  =\", a - b)\n",
    "print(\"a * b  =\", a * b)\n",
    "print(\"a / b  =\", a / b)\n",
    "print(\"a // b  =\", a // b)\n",
    "print(\"a % b  =\", a % b)\n",
    "print(\"a ** b =\", a ** b) "
   ]
  },
  {
   "cell_type": "markdown",
   "id": "fd68d9ed-0395-483e-8e1e-886ff8e2751b",
   "metadata": {},
   "source": [
    "## Broadcasting\n",
    "#### First rule : If two arrays don’t have the same number of dimensions, NumPy prepends 1 to the smaller array’s shape until they match.\n"
   ]
  },
  {
   "cell_type": "code",
   "execution_count": 35,
   "id": "88b1dfbd-1894-40ae-916c-dad71f753ccd",
   "metadata": {},
   "outputs": [
    {
     "data": {
      "text/plain": [
       "array([[[0, 1, 2, 3, 4]]])"
      ]
     },
     "execution_count": 35,
     "metadata": {},
     "output_type": "execute_result"
    }
   ],
   "source": [
    "h = np.arange(5).reshape(1, 1, 5)\n",
    "h"
   ]
  },
  {
   "cell_type": "code",
   "execution_count": 36,
   "id": "8b478680-26e7-44f0-b6b9-0975bd12f143",
   "metadata": {},
   "outputs": [
    {
     "data": {
      "text/plain": [
       "array([[[10, 21, 32, 43, 54]]])"
      ]
     },
     "execution_count": 36,
     "metadata": {},
     "output_type": "execute_result"
    }
   ],
   "source": [
    "h + [10, 20, 30, 40, 50] "
   ]
  },
  {
   "cell_type": "markdown",
   "id": "e48bf7e3-f9e6-4009-9040-7788113b271e",
   "metadata": {},
   "source": [
    "#### Second rule : If one array has dimension 1 and the other has a larger size, NumPy repeats (stretches) the smaller one along that axis.\n"
   ]
  },
  {
   "cell_type": "code",
   "execution_count": 37,
   "id": "2dc362f9-c77f-4e31-bfa3-b4115f0ad078",
   "metadata": {},
   "outputs": [
    {
     "data": {
      "text/plain": [
       "array([[0, 1, 2],\n",
       "       [3, 4, 5]])"
      ]
     },
     "execution_count": 37,
     "metadata": {},
     "output_type": "execute_result"
    }
   ],
   "source": [
    "k = np.arange(6).reshape(2, 3)\n",
    "k"
   ]
  },
  {
   "cell_type": "code",
   "execution_count": 38,
   "id": "03335fbd-6e0a-483a-8152-4f4c0056d659",
   "metadata": {},
   "outputs": [
    {
     "data": {
      "text/plain": [
       "array([[100, 101, 102],\n",
       "       [203, 204, 205]])"
      ]
     },
     "execution_count": 38,
     "metadata": {},
     "output_type": "execute_result"
    }
   ],
   "source": [
    "k + [[100], [200]]"
   ]
  },
  {
   "cell_type": "code",
   "execution_count": 39,
   "id": "2f03ec17-0252-4506-9568-d3c542b73916",
   "metadata": {},
   "outputs": [
    {
     "data": {
      "text/plain": [
       "array([[1000, 1001, 1002],\n",
       "       [1003, 1004, 1005]])"
      ]
     },
     "execution_count": 39,
     "metadata": {},
     "output_type": "execute_result"
    }
   ],
   "source": [
    "k + 1000 "
   ]
  },
  {
   "cell_type": "markdown",
   "id": "a15abe84-2891-4a7e-91e2-d08864b13ac3",
   "metadata": {},
   "source": [
    "#### Third rule : After rules 1 & 2, the sizes of all arrays must match.\n",
    "\n",
    "\n"
   ]
  },
  {
   "cell_type": "code",
   "execution_count": 40,
   "id": "f6021ba1-ddbe-471b-946f-0fd4e69c6924",
   "metadata": {},
   "outputs": [
    {
     "name": "stdout",
     "output_type": "stream",
     "text": [
      "operands could not be broadcast together with shapes (2,3) (2,) \n"
     ]
    }
   ],
   "source": [
    "try:\n",
    "    k + [33, 44]\n",
    "except ValueError as e:\n",
    "    print(e)"
   ]
  },
  {
   "cell_type": "markdown",
   "id": "dce16081-8170-4db4-b378-944af4018cef",
   "metadata": {},
   "source": [
    "## Upcasting\n",
    "#### When trying to combine arrays with different dtypes, NumPy will upcast to a type capable of handling all possible values (regardless of what the actual values are).\n",
    "\n"
   ]
  },
  {
   "cell_type": "code",
   "execution_count": 41,
   "id": "37487d8b-391d-41c6-8654-60c88d244cce",
   "metadata": {},
   "outputs": [
    {
     "name": "stdout",
     "output_type": "stream",
     "text": [
      "uint8 [0 1 2 3 4]\n"
     ]
    }
   ],
   "source": [
    "k1 = np.arange(0, 5, dtype=np.uint8)\n",
    "print(k1.dtype, k1)"
   ]
  },
  {
   "cell_type": "code",
   "execution_count": 42,
   "id": "5d69348b-8127-4caf-90e4-3599de1199f2",
   "metadata": {},
   "outputs": [
    {
     "name": "stdout",
     "output_type": "stream",
     "text": [
      "int16 [ 5  7  9 11 13]\n"
     ]
    }
   ],
   "source": [
    "k2 = k1 + np.array([5, 6, 7, 8, 9], dtype=np.int8)\n",
    "print(k2.dtype, k2)"
   ]
  },
  {
   "cell_type": "code",
   "execution_count": 43,
   "id": "d91b9a1f-b1c1-47f9-a407-1a2d9978cf9b",
   "metadata": {},
   "outputs": [
    {
     "name": "stdout",
     "output_type": "stream",
     "text": [
      "float64 [1.5 2.5 3.5 4.5 5.5]\n"
     ]
    }
   ],
   "source": [
    "k3 = k1 + 1.5\n",
    "print(k3.dtype, k3)"
   ]
  },
  {
   "cell_type": "markdown",
   "id": "c01f73d8-a243-407d-8f08-5b95d5406dd5",
   "metadata": {},
   "source": [
    "## Conditional operators\n"
   ]
  },
  {
   "cell_type": "code",
   "execution_count": 44,
   "id": "639e324b-f3f5-4ec4-a5a7-0572ff746f9c",
   "metadata": {},
   "outputs": [
    {
     "data": {
      "text/plain": [
       "array([False,  True,  True, False])"
      ]
     },
     "execution_count": 44,
     "metadata": {},
     "output_type": "execute_result"
    }
   ],
   "source": [
    "m = np.array([20, -5, 30, 40])\n",
    "m < [15, 16, 35, 36]"
   ]
  },
  {
   "cell_type": "code",
   "execution_count": 45,
   "id": "c8b7f458-a419-414c-adf6-45da0517e26b",
   "metadata": {},
   "outputs": [
    {
     "data": {
      "text/plain": [
       "array([ True,  True, False, False])"
      ]
     },
     "execution_count": 45,
     "metadata": {},
     "output_type": "execute_result"
    }
   ],
   "source": [
    "m < 25"
   ]
  },
  {
   "cell_type": "code",
   "execution_count": 46,
   "id": "92265238-5202-476f-867c-68c0254419c5",
   "metadata": {},
   "outputs": [
    {
     "data": {
      "text/plain": [
       "array([20, -5])"
      ]
     },
     "execution_count": 46,
     "metadata": {},
     "output_type": "execute_result"
    }
   ],
   "source": [
    "m[m < 25]"
   ]
  },
  {
   "cell_type": "markdown",
   "id": "25daa436-d587-4c25-b85f-cd8caeaaba4d",
   "metadata": {},
   "source": [
    "## Mathematical and statistical functions\n"
   ]
  },
  {
   "cell_type": "markdown",
   "id": "6086641b-227e-4afe-8099-ef84401a351c",
   "metadata": {},
   "source": [
    "## `ndarray methods`\n"
   ]
  },
  {
   "cell_type": "code",
   "execution_count": 47,
   "id": "c3716aba-56c1-44df-b7ad-ca3fe19b078c",
   "metadata": {},
   "outputs": [
    {
     "name": "stdout",
     "output_type": "stream",
     "text": [
      "[[-2.5  3.1  7. ]\n",
      " [10.  11.  12. ]]\n",
      "mean = 6.766666666666667\n"
     ]
    }
   ],
   "source": [
    "a = np.array([[-2.5, 3.1, 7], [10, 11, 12]])\n",
    "print(a)\n",
    "print(\"mean =\", a.mean())"
   ]
  },
  {
   "cell_type": "code",
   "execution_count": 48,
   "id": "6885720a-2a2f-48fa-b9df-4a915f6bef2b",
   "metadata": {},
   "outputs": [
    {
     "name": "stdout",
     "output_type": "stream",
     "text": [
      "min = -2.5\n",
      "max = 12.0\n",
      "sum = 40.6\n",
      "prod = -71610.0\n",
      "std = 5.084835843520964\n",
      "var = 25.855555555555554\n"
     ]
    }
   ],
   "source": [
    "for func in (a.min, a.max, a.sum, a.prod, a.std, a.var):\n",
    "    print(func.__name__, \"=\", func())"
   ]
  },
  {
   "cell_type": "code",
   "execution_count": 49,
   "id": "9015d7c3-84a6-42aa-b977-834e320dbefa",
   "metadata": {},
   "outputs": [
    {
     "data": {
      "text/plain": [
       "array([[[ 0,  1,  2,  3],\n",
       "        [ 4,  5,  6,  7],\n",
       "        [ 8,  9, 10, 11]],\n",
       "\n",
       "       [[12, 13, 14, 15],\n",
       "        [16, 17, 18, 19],\n",
       "        [20, 21, 22, 23]]])"
      ]
     },
     "execution_count": 49,
     "metadata": {},
     "output_type": "execute_result"
    }
   ],
   "source": [
    "c=np.arange(24).reshape(2,3,4)\n",
    "c"
   ]
  },
  {
   "cell_type": "code",
   "execution_count": 50,
   "id": "a920bb41-f82f-49d5-b301-37ff6e9fc647",
   "metadata": {},
   "outputs": [
    {
     "data": {
      "text/plain": [
       "array([[12, 14, 16, 18],\n",
       "       [20, 22, 24, 26],\n",
       "       [28, 30, 32, 34]])"
      ]
     },
     "execution_count": 50,
     "metadata": {},
     "output_type": "execute_result"
    }
   ],
   "source": [
    "c.sum(axis=0)"
   ]
  },
  {
   "cell_type": "code",
   "execution_count": 51,
   "id": "e5ae3c53-e928-4217-8a21-9cda0ef16a03",
   "metadata": {},
   "outputs": [
    {
     "data": {
      "text/plain": [
       "array([[12, 15, 18, 21],\n",
       "       [48, 51, 54, 57]])"
      ]
     },
     "execution_count": 51,
     "metadata": {},
     "output_type": "execute_result"
    }
   ],
   "source": [
    "c.sum(axis=1)"
   ]
  },
  {
   "cell_type": "code",
   "execution_count": 52,
   "id": "9bb49515-68fe-40b0-8baf-c3c0bf266beb",
   "metadata": {},
   "outputs": [
    {
     "data": {
      "text/plain": [
       "array([ 60,  92, 124])"
      ]
     },
     "execution_count": 52,
     "metadata": {},
     "output_type": "execute_result"
    }
   ],
   "source": [
    "c.sum(axis=(0,2))"
   ]
  },
  {
   "cell_type": "markdown",
   "id": "2f02f369-c7b8-4259-a4ba-5685f1ed2baa",
   "metadata": {},
   "source": [
    "## Universal functions\n"
   ]
  },
  {
   "cell_type": "code",
   "execution_count": 53,
   "id": "bf92b269-5af3-4391-88a6-1f22d3045fb9",
   "metadata": {},
   "outputs": [
    {
     "data": {
      "text/plain": [
       "array([[  6.25,   9.61,  49.  ],\n",
       "       [100.  , 121.  , 144.  ]])"
      ]
     },
     "execution_count": 53,
     "metadata": {},
     "output_type": "execute_result"
    }
   ],
   "source": [
    "a = np.array([[-2.5, 3.1, 7], [10, 11, 12]])\n",
    "np.square(a)"
   ]
  },
  {
   "cell_type": "code",
   "execution_count": 54,
   "id": "47099e67-9c59-4cf1-8531-0ee10aa38421",
   "metadata": {},
   "outputs": [
    {
     "name": "stdout",
     "output_type": "stream",
     "text": [
      "Original ndarray\n",
      "[[-2.5  3.1  7. ]\n",
      " [10.  11.  12. ]]\n",
      "\n",
      " absolute\n",
      "[[ 2.5  3.1  7. ]\n",
      " [10.  11.  12. ]]\n",
      "\n",
      " sqrt\n",
      "[[       nan 1.76068169 2.64575131]\n",
      " [3.16227766 3.31662479 3.46410162]]\n",
      "\n",
      " exp\n",
      "[[8.20849986e-02 2.21979513e+01 1.09663316e+03]\n",
      " [2.20264658e+04 5.98741417e+04 1.62754791e+05]]\n",
      "\n",
      " log\n",
      "[[       nan 1.13140211 1.94591015]\n",
      " [2.30258509 2.39789527 2.48490665]]\n",
      "\n",
      " sign\n",
      "[[-1.  1.  1.]\n",
      " [ 1.  1.  1.]]\n",
      "\n",
      " ceil\n",
      "[[-2.  4.  7.]\n",
      " [10. 11. 12.]]\n",
      "\n",
      " modf\n",
      "(array([[-0.5,  0.1,  0. ],\n",
      "       [ 0. ,  0. ,  0. ]]), array([[-2.,  3.,  7.],\n",
      "       [10., 11., 12.]]))\n",
      "\n",
      " isnan\n",
      "[[False False False]\n",
      " [False False False]]\n",
      "\n",
      " cos\n",
      "[[-0.80114362 -0.99913515  0.75390225]\n",
      " [-0.83907153  0.0044257   0.84385396]]\n"
     ]
    },
    {
     "name": "stderr",
     "output_type": "stream",
     "text": [
      "C:\\Users\\Shubham\\AppData\\Local\\Temp\\ipykernel_7276\\2634842825.py:5: RuntimeWarning: invalid value encountered in sqrt\n",
      "  print(func(a))\n",
      "C:\\Users\\Shubham\\AppData\\Local\\Temp\\ipykernel_7276\\2634842825.py:5: RuntimeWarning: invalid value encountered in log\n",
      "  print(func(a))\n"
     ]
    }
   ],
   "source": [
    "print(\"Original ndarray\")\n",
    "print(a)\n",
    "for func in (np.abs, np.sqrt, np.exp, np.log, np.sign, np.ceil, np.modf, np.isnan, np.cos):\n",
    "    print(\"\\n\", func.__name__)\n",
    "    print(func(a))"
   ]
  },
  {
   "cell_type": "markdown",
   "id": "5d7dd154-b416-4efb-a2cf-34bf9cdd3a50",
   "metadata": {},
   "source": [
    "## Binary ufuncs\n"
   ]
  },
  {
   "cell_type": "code",
   "execution_count": 55,
   "id": "fd477593-9655-4b89-bddf-d0d320d23185",
   "metadata": {},
   "outputs": [
    {
     "data": {
      "text/plain": [
       "array([ 3,  6,  2, 11])"
      ]
     },
     "execution_count": 55,
     "metadata": {},
     "output_type": "execute_result"
    }
   ],
   "source": [
    "a = np.array([1, -2, 3, 4])\n",
    "b = np.array([2, 8, -1, 7])\n",
    "np.add(a, b)\n"
   ]
  },
  {
   "cell_type": "code",
   "execution_count": 56,
   "id": "9c9aca09-5ec5-49ef-b7f8-419fae645306",
   "metadata": {},
   "outputs": [
    {
     "data": {
      "text/plain": [
       "array([False, False,  True, False])"
      ]
     },
     "execution_count": 56,
     "metadata": {},
     "output_type": "execute_result"
    }
   ],
   "source": [
    "np.greater(a, b)  "
   ]
  },
  {
   "cell_type": "code",
   "execution_count": 57,
   "id": "831f1318-0137-46f4-97d2-e7619f04f513",
   "metadata": {},
   "outputs": [
    {
     "data": {
      "text/plain": [
       "array([2, 8, 3, 7])"
      ]
     },
     "execution_count": 57,
     "metadata": {},
     "output_type": "execute_result"
    }
   ],
   "source": [
    "np.maximum(a, b)"
   ]
  },
  {
   "cell_type": "code",
   "execution_count": 58,
   "id": "324e18bd-9e35-4f27-ad18-224dbd30d2fa",
   "metadata": {},
   "outputs": [
    {
     "data": {
      "text/plain": [
       "array([ 1.,  2., -3.,  4.])"
      ]
     },
     "execution_count": 58,
     "metadata": {},
     "output_type": "execute_result"
    }
   ],
   "source": [
    "np.copysign(a, b)"
   ]
  },
  {
   "cell_type": "markdown",
   "id": "89e11799-dc21-460e-8c26-36ca90a33798",
   "metadata": {},
   "source": [
    "## Array indexing\n",
    "#### One-dimensional arrays\n"
   ]
  },
  {
   "cell_type": "code",
   "execution_count": 59,
   "id": "e85efad7-eff7-43b3-947c-975f63c1ef62",
   "metadata": {},
   "outputs": [
    {
     "data": {
      "text/plain": [
       "np.int64(19)"
      ]
     },
     "execution_count": 59,
     "metadata": {},
     "output_type": "execute_result"
    }
   ],
   "source": [
    "a = np.array([1, 5, 3, 19, 13, 7, 3])\n",
    "a[3]"
   ]
  },
  {
   "cell_type": "code",
   "execution_count": 60,
   "id": "5b0387b7-27ff-4f9e-a337-9b1ad543ccd9",
   "metadata": {},
   "outputs": [
    {
     "data": {
      "text/plain": [
       "array([ 3, 19, 13])"
      ]
     },
     "execution_count": 60,
     "metadata": {},
     "output_type": "execute_result"
    }
   ],
   "source": [
    "a[2:5]"
   ]
  },
  {
   "cell_type": "code",
   "execution_count": 61,
   "id": "809fc06a-22f8-4a08-ad5c-95c37b2bc869",
   "metadata": {},
   "outputs": [
    {
     "data": {
      "text/plain": [
       "array([ 3, 19, 13,  7])"
      ]
     },
     "execution_count": 61,
     "metadata": {},
     "output_type": "execute_result"
    }
   ],
   "source": [
    "a[2:-1]"
   ]
  },
  {
   "cell_type": "code",
   "execution_count": 62,
   "id": "e629c395-9905-443d-acf2-fe993d97f3e3",
   "metadata": {},
   "outputs": [
    {
     "data": {
      "text/plain": [
       "array([1, 5])"
      ]
     },
     "execution_count": 62,
     "metadata": {},
     "output_type": "execute_result"
    }
   ],
   "source": [
    "a[:2]"
   ]
  },
  {
   "cell_type": "code",
   "execution_count": 63,
   "id": "0b2ef222-9400-41f4-9637-d00cf51c5d23",
   "metadata": {},
   "outputs": [
    {
     "data": {
      "text/plain": [
       "array([ 3, 13,  3])"
      ]
     },
     "execution_count": 63,
     "metadata": {},
     "output_type": "execute_result"
    }
   ],
   "source": [
    "a[2::2]"
   ]
  },
  {
   "cell_type": "code",
   "execution_count": 64,
   "id": "e9a47d6e-7313-48db-bad6-ef85706cd851",
   "metadata": {},
   "outputs": [
    {
     "data": {
      "text/plain": [
       "array([ 3,  7, 13, 19,  3,  5,  1])"
      ]
     },
     "execution_count": 64,
     "metadata": {},
     "output_type": "execute_result"
    }
   ],
   "source": [
    "a[::-1]"
   ]
  },
  {
   "cell_type": "code",
   "execution_count": 65,
   "id": "1853e320-11b5-4b48-8c59-91acb62ec422",
   "metadata": {},
   "outputs": [
    {
     "data": {
      "text/plain": [
       "array([  1,   5,   3, 999,  13,   7,   3])"
      ]
     },
     "execution_count": 65,
     "metadata": {},
     "output_type": "execute_result"
    }
   ],
   "source": [
    "a[3]=999\n",
    "a"
   ]
  },
  {
   "cell_type": "code",
   "execution_count": 66,
   "id": "e5bb1d69-22e4-4f53-b41e-07cefde76457",
   "metadata": {},
   "outputs": [
    {
     "data": {
      "text/plain": [
       "array([  1,   5, 997, 998, 999,   7,   3])"
      ]
     },
     "execution_count": 66,
     "metadata": {},
     "output_type": "execute_result"
    }
   ],
   "source": [
    "a[2:5] = [997, 998, 999]\n",
    "a"
   ]
  },
  {
   "cell_type": "markdown",
   "id": "0dd452c6-a60c-40d4-af78-281a3c70f828",
   "metadata": {},
   "source": [
    "## Differences with regular python arrays\n"
   ]
  },
  {
   "cell_type": "code",
   "execution_count": 67,
   "id": "75bd969f-e160-4b48-8537-f1fcc5ac7bdb",
   "metadata": {},
   "outputs": [
    {
     "data": {
      "text/plain": [
       "array([ 1,  5, -1, -1, -1,  7,  3])"
      ]
     },
     "execution_count": 67,
     "metadata": {},
     "output_type": "execute_result"
    }
   ],
   "source": [
    "a[2:5] = -1\n",
    "a"
   ]
  },
  {
   "cell_type": "code",
   "execution_count": 68,
   "id": "17dcd1ae-258e-459b-bb91-85f073eb2deb",
   "metadata": {},
   "outputs": [
    {
     "name": "stdout",
     "output_type": "stream",
     "text": [
      "could not broadcast input array from shape (6,) into shape (3,)\n"
     ]
    }
   ],
   "source": [
    "try:\n",
    "    a[2:5] = [1,2,3,4,5,6]  #to long \n",
    "except ValueError as e:\n",
    "    print(e)"
   ]
  },
  {
   "cell_type": "code",
   "execution_count": 69,
   "id": "682357cc-612f-46b6-94d0-15515d5f247e",
   "metadata": {},
   "outputs": [
    {
     "name": "stdout",
     "output_type": "stream",
     "text": [
      "cannot delete array elements\n"
     ]
    }
   ],
   "source": [
    "try:\n",
    "    del a[2:5]\n",
    "except ValueError as e:\n",
    "    print(e)"
   ]
  },
  {
   "cell_type": "code",
   "execution_count": 70,
   "id": "b37a39f9-a2eb-4f00-b90a-36c3e5b7e979",
   "metadata": {},
   "outputs": [
    {
     "data": {
      "text/plain": [
       "array([  -1,   -1, 1000,    7])"
      ]
     },
     "execution_count": 70,
     "metadata": {},
     "output_type": "execute_result"
    }
   ],
   "source": [
    "a_slice = a[2:6]\n",
    "a_slice[2] = 1000\n",
    "a_slice "
   ]
  },
  {
   "cell_type": "code",
   "execution_count": 71,
   "id": "05865c35-d2e1-44c8-9ec2-c1559a1a1678",
   "metadata": {},
   "outputs": [
    {
     "data": {
      "text/plain": [
       "array([   1,    5,   -1, 2000, 1000,    7,    3])"
      ]
     },
     "execution_count": 71,
     "metadata": {},
     "output_type": "execute_result"
    }
   ],
   "source": [
    "a[3] = 2000\n",
    "a"
   ]
  },
  {
   "cell_type": "code",
   "execution_count": 72,
   "id": "a2303f5a-a4fd-4830-ac1b-04c16ec1f02c",
   "metadata": {},
   "outputs": [
    {
     "data": {
      "text/plain": [
       "array([  -1, 3000, 1000,    7])"
      ]
     },
     "execution_count": 72,
     "metadata": {},
     "output_type": "execute_result"
    }
   ],
   "source": [
    "another_slice = a[2:6].copy()\n",
    "another_slice[1] = 3000\n",
    "another_slice"
   ]
  },
  {
   "cell_type": "code",
   "execution_count": 73,
   "id": "e49b63db-c290-43f1-a0d0-0b9203e0c724",
   "metadata": {},
   "outputs": [
    {
     "data": {
      "text/plain": [
       "array([   1,    5,   -1, 4000, 1000,    7,    3])"
      ]
     },
     "execution_count": 73,
     "metadata": {},
     "output_type": "execute_result"
    }
   ],
   "source": [
    "a[3] = 4000\n",
    "a"
   ]
  },
  {
   "cell_type": "markdown",
   "id": "73237f3f-1a96-46e1-8e95-3af015ab50f9",
   "metadata": {},
   "source": [
    "## Multi-dimensional arrays\n"
   ]
  },
  {
   "cell_type": "code",
   "execution_count": 74,
   "id": "312a4bdf-2865-4178-a12e-682e10ad8e4d",
   "metadata": {},
   "outputs": [
    {
     "data": {
      "text/plain": [
       "array([[ 0,  1,  2,  3,  4,  5,  6,  7,  8,  9, 10, 11],\n",
       "       [12, 13, 14, 15, 16, 17, 18, 19, 20, 21, 22, 23],\n",
       "       [24, 25, 26, 27, 28, 29, 30, 31, 32, 33, 34, 35],\n",
       "       [36, 37, 38, 39, 40, 41, 42, 43, 44, 45, 46, 47]])"
      ]
     },
     "execution_count": 74,
     "metadata": {},
     "output_type": "execute_result"
    }
   ],
   "source": [
    "b = np.arange(48).reshape(4, 12)\n",
    "b"
   ]
  },
  {
   "cell_type": "code",
   "execution_count": 75,
   "id": "a4e89854-33fe-4e68-bb2a-6a4723f0cdae",
   "metadata": {},
   "outputs": [
    {
     "data": {
      "text/plain": [
       "np.int64(14)"
      ]
     },
     "execution_count": 75,
     "metadata": {},
     "output_type": "execute_result"
    }
   ],
   "source": [
    "b[1, 2]"
   ]
  },
  {
   "cell_type": "code",
   "execution_count": 76,
   "id": "79bc9ed9-9293-41de-8a21-2da7820afd72",
   "metadata": {},
   "outputs": [
    {
     "data": {
      "text/plain": [
       "array([12, 13, 14, 15, 16, 17, 18, 19, 20, 21, 22, 23])"
      ]
     },
     "execution_count": 76,
     "metadata": {},
     "output_type": "execute_result"
    }
   ],
   "source": [
    "b[1, :]"
   ]
  },
  {
   "cell_type": "code",
   "execution_count": 77,
   "id": "850fbcec-5941-4dee-8c78-15406896f4a5",
   "metadata": {},
   "outputs": [
    {
     "data": {
      "text/plain": [
       "array([ 1, 13, 25, 37])"
      ]
     },
     "execution_count": 77,
     "metadata": {},
     "output_type": "execute_result"
    }
   ],
   "source": [
    "b[:, 1]"
   ]
  },
  {
   "cell_type": "code",
   "execution_count": 78,
   "id": "c1578c46-d78d-480f-b3f2-c14b4ceee91f",
   "metadata": {},
   "outputs": [
    {
     "data": {
      "text/plain": [
       "array([[12, 13, 14, 15, 16, 17, 18, 19, 20, 21, 22, 23]])"
      ]
     },
     "execution_count": 78,
     "metadata": {},
     "output_type": "execute_result"
    }
   ],
   "source": [
    "b[1:2, :]"
   ]
  },
  {
   "cell_type": "markdown",
   "id": "d88379c6-58f2-4915-b31d-f8c7444a09a8",
   "metadata": {},
   "source": [
    "## Fancy indexing\n"
   ]
  },
  {
   "cell_type": "code",
   "execution_count": 79,
   "id": "f6d1a5b3-29e1-4f78-9aab-2b4e6e0601c3",
   "metadata": {},
   "outputs": [
    {
     "data": {
      "text/plain": [
       "array([[ 2,  3,  4],\n",
       "       [26, 27, 28]])"
      ]
     },
     "execution_count": 79,
     "metadata": {},
     "output_type": "execute_result"
    }
   ],
   "source": [
    "b[(0,2), 2:5]  # rows 0 and 2, columns 2 to 4 (5-1)"
   ]
  },
  {
   "cell_type": "code",
   "execution_count": 80,
   "id": "3c8c4234-6b3f-495b-b7e4-ffda77ee1017",
   "metadata": {},
   "outputs": [
    {
     "data": {
      "text/plain": [
       "array([[11,  2, 11],\n",
       "       [23, 14, 23],\n",
       "       [35, 26, 35],\n",
       "       [47, 38, 47]])"
      ]
     },
     "execution_count": 80,
     "metadata": {},
     "output_type": "execute_result"
    }
   ],
   "source": [
    "b[:, (-1, 2, -1)]"
   ]
  },
  {
   "cell_type": "code",
   "execution_count": 81,
   "id": "b487d98d-48b9-4662-864e-326004dcc2e0",
   "metadata": {},
   "outputs": [
    {
     "data": {
      "text/plain": [
       "array([41, 33, 37, 33])"
      ]
     },
     "execution_count": 81,
     "metadata": {},
     "output_type": "execute_result"
    }
   ],
   "source": [
    "b[(-1, 2, -1, 2), (5, 9, 1, 9)]"
   ]
  },
  {
   "cell_type": "markdown",
   "id": "5e4430c8-3640-4c85-b73d-39c7cd8cd4d0",
   "metadata": {},
   "source": [
    "## Higher dimensions\n"
   ]
  },
  {
   "cell_type": "code",
   "execution_count": 82,
   "id": "5f99628d-7bd3-4779-a006-7a30203635c5",
   "metadata": {},
   "outputs": [
    {
     "data": {
      "text/plain": [
       "array([[[ 0,  1,  2,  3,  4,  5],\n",
       "        [ 6,  7,  8,  9, 10, 11]],\n",
       "\n",
       "       [[12, 13, 14, 15, 16, 17],\n",
       "        [18, 19, 20, 21, 22, 23]],\n",
       "\n",
       "       [[24, 25, 26, 27, 28, 29],\n",
       "        [30, 31, 32, 33, 34, 35]],\n",
       "\n",
       "       [[36, 37, 38, 39, 40, 41],\n",
       "        [42, 43, 44, 45, 46, 47]]])"
      ]
     },
     "execution_count": 82,
     "metadata": {},
     "output_type": "execute_result"
    }
   ],
   "source": [
    "c = b.reshape(4,2,6)\n",
    "c"
   ]
  },
  {
   "cell_type": "code",
   "execution_count": 83,
   "id": "2301cb25-2137-4eac-8918-e1f30e0dbd6f",
   "metadata": {},
   "outputs": [
    {
     "data": {
      "text/plain": [
       "np.int64(34)"
      ]
     },
     "execution_count": 83,
     "metadata": {},
     "output_type": "execute_result"
    }
   ],
   "source": [
    "c[2, 1, 4]"
   ]
  },
  {
   "cell_type": "code",
   "execution_count": 84,
   "id": "03a593a3-8477-40bb-add4-958b5915b4d0",
   "metadata": {},
   "outputs": [
    {
     "data": {
      "text/plain": [
       "array([27, 33])"
      ]
     },
     "execution_count": 84,
     "metadata": {},
     "output_type": "execute_result"
    }
   ],
   "source": [
    "c[2, :, 3] "
   ]
  },
  {
   "cell_type": "code",
   "execution_count": 85,
   "id": "25e6c752-16fd-4d83-be67-cae0d170df08",
   "metadata": {},
   "outputs": [
    {
     "data": {
      "text/plain": [
       "array([30, 31, 32, 33, 34, 35])"
      ]
     },
     "execution_count": 85,
     "metadata": {},
     "output_type": "execute_result"
    }
   ],
   "source": [
    "c[2, 1]"
   ]
  },
  {
   "cell_type": "markdown",
   "id": "8c806df5-55e5-4be2-92d4-26b2d8de99c5",
   "metadata": {},
   "source": [
    "## Ellipsis (`...`)\n"
   ]
  },
  {
   "cell_type": "code",
   "execution_count": 86,
   "id": "d7504719-b806-4254-b212-375970457cc3",
   "metadata": {},
   "outputs": [
    {
     "data": {
      "text/plain": [
       "array([[24, 25, 26, 27, 28, 29],\n",
       "       [30, 31, 32, 33, 34, 35]])"
      ]
     },
     "execution_count": 86,
     "metadata": {},
     "output_type": "execute_result"
    }
   ],
   "source": [
    "c[2, ...]  "
   ]
  },
  {
   "cell_type": "code",
   "execution_count": 87,
   "id": "7d9e1d8b-0e5c-4de6-bf35-00ceab17630f",
   "metadata": {},
   "outputs": [
    {
     "data": {
      "text/plain": [
       "array([30, 31, 32, 33, 34, 35])"
      ]
     },
     "execution_count": 87,
     "metadata": {},
     "output_type": "execute_result"
    }
   ],
   "source": [
    "c[2, 1, ...]"
   ]
  },
  {
   "cell_type": "code",
   "execution_count": 88,
   "id": "d3f4e44b-bd45-46d3-9cc7-8a4f9eec179d",
   "metadata": {},
   "outputs": [
    {
     "data": {
      "text/plain": [
       "array([27, 33])"
      ]
     },
     "execution_count": 88,
     "metadata": {},
     "output_type": "execute_result"
    }
   ],
   "source": [
    "c[2, ..., 3]"
   ]
  },
  {
   "cell_type": "code",
   "execution_count": 89,
   "id": "e0835022-686d-4868-8608-92860a03388d",
   "metadata": {},
   "outputs": [
    {
     "data": {
      "text/plain": [
       "array([[ 3,  9],\n",
       "       [15, 21],\n",
       "       [27, 33],\n",
       "       [39, 45]])"
      ]
     },
     "execution_count": 89,
     "metadata": {},
     "output_type": "execute_result"
    }
   ],
   "source": [
    "c[..., 3] "
   ]
  },
  {
   "cell_type": "markdown",
   "id": "be52ca9f-93e4-4f6d-92ee-75c1fe9ba9a9",
   "metadata": {},
   "source": [
    "## Boolean indexing"
   ]
  },
  {
   "cell_type": "code",
   "execution_count": 90,
   "id": "ab9cca31-80d2-43c6-97af-0875c8575d20",
   "metadata": {},
   "outputs": [
    {
     "data": {
      "text/plain": [
       "array([[ 0,  1,  2,  3,  4,  5,  6,  7,  8,  9, 10, 11],\n",
       "       [12, 13, 14, 15, 16, 17, 18, 19, 20, 21, 22, 23],\n",
       "       [24, 25, 26, 27, 28, 29, 30, 31, 32, 33, 34, 35],\n",
       "       [36, 37, 38, 39, 40, 41, 42, 43, 44, 45, 46, 47]])"
      ]
     },
     "execution_count": 90,
     "metadata": {},
     "output_type": "execute_result"
    }
   ],
   "source": [
    "b = np.arange(48).reshape(4, 12)\n",
    "b"
   ]
  },
  {
   "cell_type": "code",
   "execution_count": 91,
   "id": "1635eb90-fd4e-4953-b9d3-bcdd90aab739",
   "metadata": {},
   "outputs": [
    {
     "data": {
      "text/plain": [
       "array([[ 0,  1,  2,  3,  4,  5,  6,  7,  8,  9, 10, 11],\n",
       "       [24, 25, 26, 27, 28, 29, 30, 31, 32, 33, 34, 35]])"
      ]
     },
     "execution_count": 91,
     "metadata": {},
     "output_type": "execute_result"
    }
   ],
   "source": [
    "rows_on = np.array([True, False, True, False])\n",
    "b[rows_on, :]"
   ]
  },
  {
   "cell_type": "code",
   "execution_count": 92,
   "id": "1343e9ae-32a5-481c-b25b-92a7f9f4abf0",
   "metadata": {},
   "outputs": [
    {
     "data": {
      "text/plain": [
       "array([[ 1,  4,  7, 10],\n",
       "       [13, 16, 19, 22],\n",
       "       [25, 28, 31, 34],\n",
       "       [37, 40, 43, 46]])"
      ]
     },
     "execution_count": 92,
     "metadata": {},
     "output_type": "execute_result"
    }
   ],
   "source": [
    "cols_on = np.array([False, True, False] * 4)\n",
    "b[:, cols_on]  "
   ]
  },
  {
   "cell_type": "markdown",
   "id": "2a1ee31f-75c5-4e1c-a340-dc503ba50921",
   "metadata": {},
   "source": [
    "## `np.ix_`"
   ]
  },
  {
   "cell_type": "code",
   "execution_count": 93,
   "id": "bf4c900b-febd-4807-9bd5-f2d5f86848af",
   "metadata": {},
   "outputs": [
    {
     "data": {
      "text/plain": [
       "array([[ 1,  4,  7, 10],\n",
       "       [25, 28, 31, 34]])"
      ]
     },
     "execution_count": 93,
     "metadata": {},
     "output_type": "execute_result"
    }
   ],
   "source": [
    "b[np.ix_(rows_on, cols_on)]"
   ]
  },
  {
   "cell_type": "code",
   "execution_count": 94,
   "id": "98c5dc1b-0feb-4bf0-b095-51a6639984c0",
   "metadata": {},
   "outputs": [
    {
     "data": {
      "text/plain": [
       "(array([[0],\n",
       "        [2]]),\n",
       " array([[ 1,  4,  7, 10]]))"
      ]
     },
     "execution_count": 94,
     "metadata": {},
     "output_type": "execute_result"
    }
   ],
   "source": [
    "np.ix_(rows_on, cols_on)"
   ]
  },
  {
   "cell_type": "code",
   "execution_count": 95,
   "id": "27f764f0-0e67-452b-891d-317b7cf1d330",
   "metadata": {},
   "outputs": [
    {
     "data": {
      "text/plain": [
       "array([ 1,  4,  7, 10, 13, 16, 19, 22, 25, 28, 31, 34, 37, 40, 43, 46])"
      ]
     },
     "execution_count": 95,
     "metadata": {},
     "output_type": "execute_result"
    }
   ],
   "source": [
    "b[b % 3 == 1]"
   ]
  },
  {
   "cell_type": "markdown",
   "id": "a80bb60e-e7d8-4575-817b-1bcf5c84aeb6",
   "metadata": {},
   "source": [
    "## Iterating\n"
   ]
  },
  {
   "cell_type": "code",
   "execution_count": 96,
   "id": "c22b823e-aba6-4152-8502-92909342723a",
   "metadata": {},
   "outputs": [
    {
     "data": {
      "text/plain": [
       "array([[[ 0,  1,  2,  3],\n",
       "        [ 4,  5,  6,  7],\n",
       "        [ 8,  9, 10, 11]],\n",
       "\n",
       "       [[12, 13, 14, 15],\n",
       "        [16, 17, 18, 19],\n",
       "        [20, 21, 22, 23]]])"
      ]
     },
     "execution_count": 96,
     "metadata": {},
     "output_type": "execute_result"
    }
   ],
   "source": [
    "c = np.arange(24).reshape(2, 3, 4) \n",
    "c"
   ]
  },
  {
   "cell_type": "code",
   "execution_count": 97,
   "id": "05afdf8c-35a8-4296-b604-a60f32bccff0",
   "metadata": {},
   "outputs": [
    {
     "name": "stdout",
     "output_type": "stream",
     "text": [
      "Item:\n",
      "[[ 0  1  2  3]\n",
      " [ 4  5  6  7]\n",
      " [ 8  9 10 11]]\n",
      "Item:\n",
      "[[12 13 14 15]\n",
      " [16 17 18 19]\n",
      " [20 21 22 23]]\n"
     ]
    }
   ],
   "source": [
    "for m in c:\n",
    "    print(\"Item:\")\n",
    "    print(m)"
   ]
  },
  {
   "cell_type": "code",
   "execution_count": 98,
   "id": "a3a20e0e-6efe-4a7d-8cde-4f06a328741e",
   "metadata": {},
   "outputs": [
    {
     "name": "stdout",
     "output_type": "stream",
     "text": [
      "Item: 0\n",
      "Item: 1\n",
      "Item: 2\n",
      "Item: 3\n",
      "Item: 4\n",
      "Item: 5\n",
      "Item: 6\n",
      "Item: 7\n",
      "Item: 8\n",
      "Item: 9\n",
      "Item: 10\n",
      "Item: 11\n",
      "Item: 12\n",
      "Item: 13\n",
      "Item: 14\n",
      "Item: 15\n",
      "Item: 16\n",
      "Item: 17\n",
      "Item: 18\n",
      "Item: 19\n",
      "Item: 20\n",
      "Item: 21\n",
      "Item: 22\n",
      "Item: 23\n"
     ]
    }
   ],
   "source": [
    "for i in c.flat:\n",
    "    print(\"Item:\", i)"
   ]
  },
  {
   "cell_type": "markdown",
   "id": "8a323aa0-0cb2-44e6-b08c-751fe14aec17",
   "metadata": {},
   "source": [
    "## Stacking arrays"
   ]
  },
  {
   "cell_type": "code",
   "execution_count": 99,
   "id": "698f8e49-8648-461b-acb4-0becfa07f3a3",
   "metadata": {},
   "outputs": [
    {
     "data": {
      "text/plain": [
       "array([[1., 1., 1., 1.],\n",
       "       [1., 1., 1., 1.],\n",
       "       [1., 1., 1., 1.]])"
      ]
     },
     "execution_count": 99,
     "metadata": {},
     "output_type": "execute_result"
    }
   ],
   "source": [
    "q1 = np.full((3,4), 1.0)\n",
    "q1"
   ]
  },
  {
   "cell_type": "code",
   "execution_count": 100,
   "id": "7683021f-1307-40a5-8e09-13971bd5e058",
   "metadata": {},
   "outputs": [
    {
     "data": {
      "text/plain": [
       "array([[2., 2., 2., 2.],\n",
       "       [2., 2., 2., 2.],\n",
       "       [2., 2., 2., 2.],\n",
       "       [2., 2., 2., 2.]])"
      ]
     },
     "execution_count": 100,
     "metadata": {},
     "output_type": "execute_result"
    }
   ],
   "source": [
    "q2 = np.full((4,4), 2.0)\n",
    "q2"
   ]
  },
  {
   "cell_type": "code",
   "execution_count": 101,
   "id": "2c7788d2-f9b1-4872-ba47-5d508c12ceb8",
   "metadata": {},
   "outputs": [
    {
     "data": {
      "text/plain": [
       "array([[3., 3., 3., 3.],\n",
       "       [3., 3., 3., 3.],\n",
       "       [3., 3., 3., 3.]])"
      ]
     },
     "execution_count": 101,
     "metadata": {},
     "output_type": "execute_result"
    }
   ],
   "source": [
    "q3 = np.full((3,4), 3.0)\n",
    "q3"
   ]
  },
  {
   "cell_type": "markdown",
   "id": "1863c8da-c05c-41d4-a085-338727d47251",
   "metadata": {},
   "source": [
    "## `vstack`\n"
   ]
  },
  {
   "cell_type": "code",
   "execution_count": 102,
   "id": "ec289a6a-4dec-4f55-9789-aa8b35549660",
   "metadata": {},
   "outputs": [
    {
     "data": {
      "text/plain": [
       "array([[1., 1., 1., 1.],\n",
       "       [1., 1., 1., 1.],\n",
       "       [1., 1., 1., 1.],\n",
       "       [2., 2., 2., 2.],\n",
       "       [2., 2., 2., 2.],\n",
       "       [2., 2., 2., 2.],\n",
       "       [2., 2., 2., 2.],\n",
       "       [3., 3., 3., 3.],\n",
       "       [3., 3., 3., 3.],\n",
       "       [3., 3., 3., 3.]])"
      ]
     },
     "execution_count": 102,
     "metadata": {},
     "output_type": "execute_result"
    }
   ],
   "source": [
    "q4 = np.vstack((q1, q2, q3))\n",
    "q4"
   ]
  },
  {
   "cell_type": "code",
   "execution_count": 103,
   "id": "2b95be45-5eca-4856-a4e6-73dd3a855d47",
   "metadata": {},
   "outputs": [
    {
     "data": {
      "text/plain": [
       "(10, 4)"
      ]
     },
     "execution_count": 103,
     "metadata": {},
     "output_type": "execute_result"
    }
   ],
   "source": [
    "q4.shape"
   ]
  },
  {
   "cell_type": "markdown",
   "id": "41b38cba-e86d-4c62-9500-aeb688e10945",
   "metadata": {},
   "source": [
    "## `hstack`"
   ]
  },
  {
   "cell_type": "code",
   "execution_count": 104,
   "id": "ebea93d4-8b35-4234-bfb6-c61facbe132c",
   "metadata": {},
   "outputs": [
    {
     "data": {
      "text/plain": [
       "array([[1., 1., 1., 1., 3., 3., 3., 3.],\n",
       "       [1., 1., 1., 1., 3., 3., 3., 3.],\n",
       "       [1., 1., 1., 1., 3., 3., 3., 3.]])"
      ]
     },
     "execution_count": 104,
     "metadata": {},
     "output_type": "execute_result"
    }
   ],
   "source": [
    "q5 = np.hstack((q1, q3))\n",
    "q5"
   ]
  },
  {
   "cell_type": "code",
   "execution_count": 105,
   "id": "6c35fc8a-fd66-4aff-b132-2639ba9a8da4",
   "metadata": {},
   "outputs": [
    {
     "data": {
      "text/plain": [
       "(3, 8)"
      ]
     },
     "execution_count": 105,
     "metadata": {},
     "output_type": "execute_result"
    }
   ],
   "source": [
    "q5.shape\n"
   ]
  },
  {
   "cell_type": "code",
   "execution_count": 106,
   "id": "fa0c74e2-993c-419d-86d7-50cd9a3ec7ae",
   "metadata": {},
   "outputs": [
    {
     "name": "stdout",
     "output_type": "stream",
     "text": [
      "all the input array dimensions except for the concatenation axis must match exactly, but along dimension 0, the array at index 0 has size 3 and the array at index 1 has size 4\n"
     ]
    }
   ],
   "source": [
    "try:\n",
    "    q5 = np.hstack((q1, q2, q3))\n",
    "except ValueError as e:\n",
    "    print(e)"
   ]
  },
  {
   "cell_type": "markdown",
   "id": "5066d0d8-2da8-463b-a62f-7a15491d1981",
   "metadata": {},
   "source": [
    "## `concatenate`\n"
   ]
  },
  {
   "cell_type": "code",
   "execution_count": 107,
   "id": "adc745bd-5ce9-4213-adca-ac3032d7647b",
   "metadata": {},
   "outputs": [
    {
     "data": {
      "text/plain": [
       "array([[1., 1., 1., 1.],\n",
       "       [1., 1., 1., 1.],\n",
       "       [1., 1., 1., 1.],\n",
       "       [2., 2., 2., 2.],\n",
       "       [2., 2., 2., 2.],\n",
       "       [2., 2., 2., 2.],\n",
       "       [2., 2., 2., 2.],\n",
       "       [3., 3., 3., 3.],\n",
       "       [3., 3., 3., 3.],\n",
       "       [3., 3., 3., 3.]])"
      ]
     },
     "execution_count": 107,
     "metadata": {},
     "output_type": "execute_result"
    }
   ],
   "source": [
    "q7 = np.concatenate((q1, q2, q3), axis=0)  \n",
    "q7"
   ]
  },
  {
   "cell_type": "code",
   "execution_count": 108,
   "id": "2f7526c5-3c4e-4194-822f-02e2db926a38",
   "metadata": {},
   "outputs": [
    {
     "data": {
      "text/plain": [
       "(10, 4)"
      ]
     },
     "execution_count": 108,
     "metadata": {},
     "output_type": "execute_result"
    }
   ],
   "source": [
    "q7.shape"
   ]
  },
  {
   "cell_type": "markdown",
   "id": "725171aa-1548-4b81-be11-ff67ceb92b66",
   "metadata": {},
   "source": [
    "## `stack`\n"
   ]
  },
  {
   "cell_type": "code",
   "execution_count": 109,
   "id": "a186ce8b-9fe4-4243-b71e-7de94c35887d",
   "metadata": {
    "scrolled": true
   },
   "outputs": [
    {
     "data": {
      "text/plain": [
       "array([[[1., 1., 1., 1.],\n",
       "        [1., 1., 1., 1.],\n",
       "        [1., 1., 1., 1.]],\n",
       "\n",
       "       [[3., 3., 3., 3.],\n",
       "        [3., 3., 3., 3.],\n",
       "        [3., 3., 3., 3.]]])"
      ]
     },
     "execution_count": 109,
     "metadata": {},
     "output_type": "execute_result"
    }
   ],
   "source": [
    "q8 = np.stack((q1, q3))\n",
    "q8"
   ]
  },
  {
   "cell_type": "code",
   "execution_count": 110,
   "id": "c8493bff-32b2-4e23-9cb6-6f4369449011",
   "metadata": {},
   "outputs": [
    {
     "data": {
      "text/plain": [
       "(2, 3, 4)"
      ]
     },
     "execution_count": 110,
     "metadata": {},
     "output_type": "execute_result"
    }
   ],
   "source": [
    "q8.shape "
   ]
  },
  {
   "cell_type": "markdown",
   "id": "ebb33b49-5cfb-4ce1-8c67-312567f013bf",
   "metadata": {},
   "source": [
    "## Splitting arrays"
   ]
  },
  {
   "cell_type": "code",
   "execution_count": 111,
   "id": "19a6ee96-25fd-4fbb-b199-b7ed422737fb",
   "metadata": {},
   "outputs": [
    {
     "data": {
      "text/plain": [
       "array([[ 0,  1,  2,  3],\n",
       "       [ 4,  5,  6,  7],\n",
       "       [ 8,  9, 10, 11],\n",
       "       [12, 13, 14, 15],\n",
       "       [16, 17, 18, 19],\n",
       "       [20, 21, 22, 23]])"
      ]
     },
     "execution_count": 111,
     "metadata": {},
     "output_type": "execute_result"
    }
   ],
   "source": [
    "r = np.arange(24).reshape(6,4)\n",
    "r"
   ]
  },
  {
   "cell_type": "code",
   "execution_count": 112,
   "id": "811f7cd1-aa0e-426c-9fa3-1ba62d996120",
   "metadata": {},
   "outputs": [
    {
     "data": {
      "text/plain": [
       "array([[0, 1, 2, 3],\n",
       "       [4, 5, 6, 7]])"
      ]
     },
     "execution_count": 112,
     "metadata": {},
     "output_type": "execute_result"
    }
   ],
   "source": [
    "r1, r2, r3 = np.vsplit(r, 3)\n",
    "r1"
   ]
  },
  {
   "cell_type": "code",
   "execution_count": 113,
   "id": "b4555046-9157-4aed-97c1-2ee9905c4253",
   "metadata": {},
   "outputs": [
    {
     "data": {
      "text/plain": [
       "array([[ 8,  9, 10, 11],\n",
       "       [12, 13, 14, 15]])"
      ]
     },
     "execution_count": 113,
     "metadata": {},
     "output_type": "execute_result"
    }
   ],
   "source": [
    "r2"
   ]
  },
  {
   "cell_type": "code",
   "execution_count": 114,
   "id": "4a8378f2-73ab-40b7-93c4-c05728eddbf2",
   "metadata": {},
   "outputs": [
    {
     "data": {
      "text/plain": [
       "array([[16, 17, 18, 19],\n",
       "       [20, 21, 22, 23]])"
      ]
     },
     "execution_count": 114,
     "metadata": {},
     "output_type": "execute_result"
    }
   ],
   "source": [
    "r3"
   ]
  },
  {
   "cell_type": "code",
   "execution_count": 115,
   "id": "d5716040-23f9-45f9-b9c1-ac0cf1507fcb",
   "metadata": {},
   "outputs": [
    {
     "data": {
      "text/plain": [
       "array([[ 0,  1],\n",
       "       [ 4,  5],\n",
       "       [ 8,  9],\n",
       "       [12, 13],\n",
       "       [16, 17],\n",
       "       [20, 21]])"
      ]
     },
     "execution_count": 115,
     "metadata": {},
     "output_type": "execute_result"
    }
   ],
   "source": [
    "r4, r5 = np.hsplit(r, 2)\n",
    "r4"
   ]
  },
  {
   "cell_type": "code",
   "execution_count": 116,
   "id": "3440392b-70ce-4aa6-884b-14f452b83bda",
   "metadata": {},
   "outputs": [
    {
     "data": {
      "text/plain": [
       "array([[ 2,  3],\n",
       "       [ 6,  7],\n",
       "       [10, 11],\n",
       "       [14, 15],\n",
       "       [18, 19],\n",
       "       [22, 23]])"
      ]
     },
     "execution_count": 116,
     "metadata": {},
     "output_type": "execute_result"
    }
   ],
   "source": [
    "r5"
   ]
  },
  {
   "cell_type": "markdown",
   "id": "4f547f97-bd7e-4b96-9035-662af92020ea",
   "metadata": {},
   "source": [
    "## Transposing arrays\n",
    "#### The transpose method creates a new view on an ndarray's data, with axes permuted in the given order.\n",
    "\n"
   ]
  },
  {
   "cell_type": "code",
   "execution_count": 117,
   "id": "daa811f7-5859-42f6-a20e-9ed9abbd72b0",
   "metadata": {},
   "outputs": [
    {
     "name": "stdout",
     "output_type": "stream",
     "text": [
      "[[[ 0  1  2]\n",
      "  [ 3  4  5]]\n",
      "\n",
      " [[ 6  7  8]\n",
      "  [ 9 10 11]]\n",
      "\n",
      " [[12 13 14]\n",
      "  [15 16 17]]\n",
      "\n",
      " [[18 19 20]\n",
      "  [21 22 23]]]\n"
     ]
    }
   ],
   "source": [
    "t = np.arange(24).reshape(4,2,3)\n",
    "print(t)"
   ]
  },
  {
   "cell_type": "markdown",
   "id": "7dbd05fc-faa6-44d9-988b-09648392a110",
   "metadata": {},
   "source": [
    "#### Now let's create an ndarray such that the axes 0, 1, 2 (depth, height, width) are re-ordered to 1, 2, 0 (depth→width, height→depth, width→height):"
   ]
  },
  {
   "cell_type": "code",
   "execution_count": 118,
   "id": "0161b3c2-c34d-486e-b708-bc65dfc74d78",
   "metadata": {},
   "outputs": [
    {
     "data": {
      "text/plain": [
       "array([[[ 0,  6, 12, 18],\n",
       "        [ 1,  7, 13, 19],\n",
       "        [ 2,  8, 14, 20]],\n",
       "\n",
       "       [[ 3,  9, 15, 21],\n",
       "        [ 4, 10, 16, 22],\n",
       "        [ 5, 11, 17, 23]]])"
      ]
     },
     "execution_count": 118,
     "metadata": {},
     "output_type": "execute_result"
    }
   ],
   "source": [
    "t1 = t.transpose((1,2,0))\n",
    "t1"
   ]
  },
  {
   "cell_type": "code",
   "execution_count": 119,
   "id": "612ca10a-edb7-4bee-8909-594df5c22e95",
   "metadata": {},
   "outputs": [
    {
     "data": {
      "text/plain": [
       "(2, 3, 4)"
      ]
     },
     "execution_count": 119,
     "metadata": {},
     "output_type": "execute_result"
    }
   ],
   "source": [
    "t1.shape"
   ]
  },
  {
   "cell_type": "code",
   "execution_count": 120,
   "id": "01c618c9-110b-4a55-a27e-632610ab180b",
   "metadata": {},
   "outputs": [
    {
     "data": {
      "text/plain": [
       "array([[[ 0,  6, 12, 18],\n",
       "        [ 3,  9, 15, 21]],\n",
       "\n",
       "       [[ 1,  7, 13, 19],\n",
       "        [ 4, 10, 16, 22]],\n",
       "\n",
       "       [[ 2,  8, 14, 20],\n",
       "        [ 5, 11, 17, 23]]])"
      ]
     },
     "execution_count": 120,
     "metadata": {},
     "output_type": "execute_result"
    }
   ],
   "source": [
    "t2 = t.transpose()\n",
    "t2"
   ]
  },
  {
   "cell_type": "code",
   "execution_count": 121,
   "id": "84817060-43ef-474b-8e47-b6890e7d246f",
   "metadata": {},
   "outputs": [
    {
     "data": {
      "text/plain": [
       "(3, 2, 4)"
      ]
     },
     "execution_count": 121,
     "metadata": {},
     "output_type": "execute_result"
    }
   ],
   "source": [
    "t2.shape"
   ]
  },
  {
   "cell_type": "markdown",
   "id": "fe0b37e8-4fe0-40cc-b0d8-19c14907802b",
   "metadata": {},
   "source": [
    "## `swapaxes`\n",
    "#### NumPy provides a convenience function swapaxes to swap two axes. For example, let's create a new view of t with depth and height swapped:"
   ]
  },
  {
   "cell_type": "code",
   "execution_count": 122,
   "id": "ec6489a4-29ee-4cd3-9db3-03d5dcc25e59",
   "metadata": {},
   "outputs": [
    {
     "data": {
      "text/plain": [
       "array([[[ 0,  1,  2],\n",
       "        [ 6,  7,  8],\n",
       "        [12, 13, 14],\n",
       "        [18, 19, 20]],\n",
       "\n",
       "       [[ 3,  4,  5],\n",
       "        [ 9, 10, 11],\n",
       "        [15, 16, 17],\n",
       "        [21, 22, 23]]])"
      ]
     },
     "execution_count": 122,
     "metadata": {},
     "output_type": "execute_result"
    }
   ],
   "source": [
    "t3 = t.swapaxes(0,1)\n",
    "t3"
   ]
  },
  {
   "cell_type": "code",
   "execution_count": 123,
   "id": "2a1136be-5ea8-4a3c-89b6-9f95a97c303c",
   "metadata": {},
   "outputs": [
    {
     "data": {
      "text/plain": [
       "(2, 4, 3)"
      ]
     },
     "execution_count": 123,
     "metadata": {},
     "output_type": "execute_result"
    }
   ],
   "source": [
    "t3.shape"
   ]
  },
  {
   "cell_type": "markdown",
   "id": "dfd3d2f7-8742-4e43-b319-c4a54dc4c358",
   "metadata": {},
   "source": [
    "# Linear algebra\n",
    "## Matrix transpose\n",
    "#### The T attribute is equivalent to calling transpose() when the rank is ≥2:"
   ]
  },
  {
   "cell_type": "code",
   "execution_count": 124,
   "id": "8a2c77a0-e0bf-4c49-9e1a-31c280fc097c",
   "metadata": {},
   "outputs": [
    {
     "data": {
      "text/plain": [
       "array([[0, 1, 2, 3, 4],\n",
       "       [5, 6, 7, 8, 9]])"
      ]
     },
     "execution_count": 124,
     "metadata": {},
     "output_type": "execute_result"
    }
   ],
   "source": [
    "m1 = np.arange(10).reshape(2,5)\n",
    "m1"
   ]
  },
  {
   "cell_type": "code",
   "execution_count": 125,
   "id": "7aea101e-913f-4232-86e5-dd9b64313178",
   "metadata": {},
   "outputs": [
    {
     "data": {
      "text/plain": [
       "array([[0, 5],\n",
       "       [1, 6],\n",
       "       [2, 7],\n",
       "       [3, 8],\n",
       "       [4, 9]])"
      ]
     },
     "execution_count": 125,
     "metadata": {},
     "output_type": "execute_result"
    }
   ],
   "source": [
    "m1.T"
   ]
  },
  {
   "cell_type": "markdown",
   "id": "64af079a-dbc1-4786-9637-3c5a26a1295d",
   "metadata": {},
   "source": [
    "#### The T attribute has no effect on rank 0 (empty) or rank 1 arrays:"
   ]
  },
  {
   "cell_type": "code",
   "execution_count": 126,
   "id": "350b63fa-525c-4ce1-82d5-72ff710437d7",
   "metadata": {},
   "outputs": [
    {
     "data": {
      "text/plain": [
       "array([0, 1, 2, 3, 4])"
      ]
     },
     "execution_count": 126,
     "metadata": {},
     "output_type": "execute_result"
    }
   ],
   "source": [
    "m2 = np.arange(5)\n",
    "m2"
   ]
  },
  {
   "cell_type": "code",
   "execution_count": 127,
   "id": "29375340-e865-40fa-b4c7-77dd3bb139fc",
   "metadata": {},
   "outputs": [
    {
     "data": {
      "text/plain": [
       "array([0, 1, 2, 3, 4])"
      ]
     },
     "execution_count": 127,
     "metadata": {},
     "output_type": "execute_result"
    }
   ],
   "source": [
    "m2.T"
   ]
  },
  {
   "cell_type": "markdown",
   "id": "af88b98d-c435-49f8-ab51-5b8943140d84",
   "metadata": {},
   "source": [
    "#### We can get the desired transposition by first reshaping the 1D array to a single-row matrix (2D): "
   ]
  },
  {
   "cell_type": "code",
   "execution_count": 128,
   "id": "ce0c2499-6a49-4433-81b0-12985812d6eb",
   "metadata": {},
   "outputs": [
    {
     "data": {
      "text/plain": [
       "array([[0, 1, 2, 3, 4]])"
      ]
     },
     "execution_count": 128,
     "metadata": {},
     "output_type": "execute_result"
    }
   ],
   "source": [
    "m2 = m2.reshape(1,5)\n",
    "m2"
   ]
  },
  {
   "cell_type": "code",
   "execution_count": 129,
   "id": "0fc94eea-102c-4440-ab15-a5527190b140",
   "metadata": {},
   "outputs": [
    {
     "data": {
      "text/plain": [
       "array([[0],\n",
       "       [1],\n",
       "       [2],\n",
       "       [3],\n",
       "       [4]])"
      ]
     },
     "execution_count": 129,
     "metadata": {},
     "output_type": "execute_result"
    }
   ],
   "source": [
    "m2.T"
   ]
  },
  {
   "cell_type": "markdown",
   "id": "9cd64146-4824-42d7-ba54-8a1c17af05b7",
   "metadata": {},
   "source": [
    "## Matrix multiplication\n",
    "#### Let's create two matrices and execute a matrix multiplication using the `dot()` method."
   ]
  },
  {
   "cell_type": "code",
   "execution_count": 130,
   "id": "54ae4183-f356-4dab-94c2-00104b9f3107",
   "metadata": {},
   "outputs": [
    {
     "data": {
      "text/plain": [
       "array([[0, 1, 2, 3, 4],\n",
       "       [5, 6, 7, 8, 9]])"
      ]
     },
     "execution_count": 130,
     "metadata": {},
     "output_type": "execute_result"
    }
   ],
   "source": [
    "n1 = np.arange(10).reshape(2, 5)\n",
    "n1"
   ]
  },
  {
   "cell_type": "code",
   "execution_count": 131,
   "id": "18454043-c0c2-470e-97b5-08e5d4cddb3d",
   "metadata": {},
   "outputs": [
    {
     "data": {
      "text/plain": [
       "array([[ 0,  1,  2],\n",
       "       [ 3,  4,  5],\n",
       "       [ 6,  7,  8],\n",
       "       [ 9, 10, 11],\n",
       "       [12, 13, 14]])"
      ]
     },
     "execution_count": 131,
     "metadata": {},
     "output_type": "execute_result"
    }
   ],
   "source": [
    "n2 = np.arange(15).reshape(5,3)\n",
    "n2"
   ]
  },
  {
   "cell_type": "code",
   "execution_count": 132,
   "id": "c4f165b5-d8db-45bb-b411-f53925e4f27c",
   "metadata": {},
   "outputs": [
    {
     "data": {
      "text/plain": [
       "array([[ 90, 100, 110],\n",
       "       [240, 275, 310]])"
      ]
     },
     "execution_count": 132,
     "metadata": {},
     "output_type": "execute_result"
    }
   ],
   "source": [
    "n1.dot(n2)"
   ]
  },
  {
   "cell_type": "markdown",
   "id": "bb362055-b798-48a5-88f5-944f0e60ef8a",
   "metadata": {},
   "source": [
    "#### Caution: as mentionned previously, `n1*n2`is not a matric multiplication, it is an elementwise product (also called a Hadamard product)).\n",
    "\n"
   ]
  },
  {
   "cell_type": "markdown",
   "id": "8e2c20dc-4783-4960-b7b4-0890e7c91586",
   "metadata": {},
   "source": [
    "## Matrix inverse and pseudo-inverse\n",
    "#### Many of the linear algebra functions are available in the numpy.linalg module, in particular the inv function to compute a square matrix's inverse:"
   ]
  },
  {
   "cell_type": "code",
   "execution_count": 133,
   "id": "3b02500b-9aed-4537-a55c-c12eedb82187",
   "metadata": {},
   "outputs": [
    {
     "data": {
      "text/plain": [
       "array([[ 1,  2,  3],\n",
       "       [ 5,  7, 11],\n",
       "       [21, 29, 31]])"
      ]
     },
     "execution_count": 133,
     "metadata": {},
     "output_type": "execute_result"
    }
   ],
   "source": [
    "import numpy.linalg as linalg\n",
    "m3 = np.array([[1,2,3],[5,7,11],[21,29,31]])\n",
    "m3"
   ]
  },
  {
   "cell_type": "code",
   "execution_count": 134,
   "id": "dd36b39e-4bb1-4422-9433-a6daff702c90",
   "metadata": {},
   "outputs": [
    {
     "data": {
      "text/plain": [
       "array([[-2.31818182,  0.56818182,  0.02272727],\n",
       "       [ 1.72727273, -0.72727273,  0.09090909],\n",
       "       [-0.04545455,  0.29545455, -0.06818182]])"
      ]
     },
     "execution_count": 134,
     "metadata": {},
     "output_type": "execute_result"
    }
   ],
   "source": [
    "linalg.inv(m3)"
   ]
  },
  {
   "cell_type": "markdown",
   "id": "ba60a270-bc3b-4cf4-b494-a310bd42b2d5",
   "metadata": {},
   "source": [
    "#### You can also compute the pseudoinverse using `pinv`:"
   ]
  },
  {
   "cell_type": "code",
   "execution_count": 135,
   "id": "e8aab44d-d13a-4424-ab6e-ae1028c46283",
   "metadata": {},
   "outputs": [
    {
     "data": {
      "text/plain": [
       "array([[-2.31818182,  0.56818182,  0.02272727],\n",
       "       [ 1.72727273, -0.72727273,  0.09090909],\n",
       "       [-0.04545455,  0.29545455, -0.06818182]])"
      ]
     },
     "execution_count": 135,
     "metadata": {},
     "output_type": "execute_result"
    }
   ],
   "source": [
    "linalg.pinv(m3)"
   ]
  },
  {
   "cell_type": "markdown",
   "id": "f0b2857f-8f14-4abc-b5ec-e9402ee6a62b",
   "metadata": {},
   "source": [
    "## Identity matrix\n",
    "#### The product of a matrix by its inverse returns the identiy matrix (with small floating point errors):"
   ]
  },
  {
   "cell_type": "code",
   "execution_count": 136,
   "id": "39538610-f69e-4f99-8f38-587bc293dea9",
   "metadata": {},
   "outputs": [
    {
     "data": {
      "text/plain": [
       "array([[ 1.00000000e+00, -1.66533454e-16,  0.00000000e+00],\n",
       "       [ 6.31439345e-16,  1.00000000e+00, -1.38777878e-16],\n",
       "       [ 5.21110932e-15, -2.38697950e-15,  1.00000000e+00]])"
      ]
     },
     "execution_count": 136,
     "metadata": {},
     "output_type": "execute_result"
    }
   ],
   "source": [
    "m3.dot(linalg.inv(m3))"
   ]
  },
  {
   "cell_type": "markdown",
   "id": "4eb2dd4e-b53a-46cc-a75a-659017152e48",
   "metadata": {},
   "source": [
    "#### You can create an identity matrix of size NxN by calling eye:"
   ]
  },
  {
   "cell_type": "code",
   "execution_count": 137,
   "id": "178528c8-3c18-4a99-857a-61c2421b5713",
   "metadata": {},
   "outputs": [
    {
     "data": {
      "text/plain": [
       "array([[1., 0., 0.],\n",
       "       [0., 1., 0.],\n",
       "       [0., 0., 1.]])"
      ]
     },
     "execution_count": 137,
     "metadata": {},
     "output_type": "execute_result"
    }
   ],
   "source": [
    "np.eye(3)"
   ]
  },
  {
   "cell_type": "markdown",
   "id": "abb37211-6acb-4fd2-b406-c049a98f8c7c",
   "metadata": {},
   "source": [
    "## QR decomposition\n",
    "#### The `qr` function computes the QR decomposition of a matrix:\n",
    "\n"
   ]
  },
  {
   "cell_type": "code",
   "execution_count": 138,
   "id": "be7bdc8d-afa6-421e-b3b4-a176b562e9a7",
   "metadata": {},
   "outputs": [
    {
     "data": {
      "text/plain": [
       "array([[-0.04627448,  0.98786672,  0.14824986],\n",
       "       [-0.23137241,  0.13377362, -0.96362411],\n",
       "       [-0.97176411, -0.07889213,  0.22237479]])"
      ]
     },
     "execution_count": 138,
     "metadata": {},
     "output_type": "execute_result"
    }
   ],
   "source": [
    "q, r = linalg.qr(m3)\n",
    "q"
   ]
  },
  {
   "cell_type": "code",
   "execution_count": 139,
   "id": "6275deac-3d6f-4639-87f6-bd7bf5a28456",
   "metadata": {},
   "outputs": [
    {
     "data": {
      "text/plain": [
       "array([[-21.61018278, -29.89331494, -32.80860727],\n",
       "       [  0.        ,   0.62427688,   1.9894538 ],\n",
       "       [  0.        ,   0.        ,  -3.26149699]])"
      ]
     },
     "execution_count": 139,
     "metadata": {},
     "output_type": "execute_result"
    }
   ],
   "source": [
    "r"
   ]
  },
  {
   "cell_type": "code",
   "execution_count": 140,
   "id": "33ee9a2f-f07b-45c7-8e38-70a181e5b870",
   "metadata": {},
   "outputs": [
    {
     "data": {
      "text/plain": [
       "array([[ 1.,  2.,  3.],\n",
       "       [ 5.,  7., 11.],\n",
       "       [21., 29., 31.]])"
      ]
     },
     "execution_count": 140,
     "metadata": {},
     "output_type": "execute_result"
    }
   ],
   "source": [
    "q.dot(r)"
   ]
  },
  {
   "cell_type": "markdown",
   "id": "c980a3c9-d32d-439c-9056-7b542b406dfc",
   "metadata": {},
   "source": [
    "## Determinant\n",
    "#### The det function computes the matrix determinant:"
   ]
  },
  {
   "cell_type": "code",
   "execution_count": 141,
   "id": "d222af7c-59b9-4814-8def-0997a34d4c15",
   "metadata": {},
   "outputs": [
    {
     "data": {
      "text/plain": [
       "np.float64(43.99999999999997)"
      ]
     },
     "execution_count": 141,
     "metadata": {},
     "output_type": "execute_result"
    }
   ],
   "source": [
    "linalg.det(m3)"
   ]
  },
  {
   "cell_type": "markdown",
   "id": "e42dc4a8-cdf6-4ab9-9e02-375ef1368884",
   "metadata": {},
   "source": [
    "## Eigenvalues and eigenvectors\n",
    "#### The `eig` function computes the eigenvalues and eigenvectors of a square matrix:"
   ]
  },
  {
   "cell_type": "code",
   "execution_count": 142,
   "id": "d9563c7a-df22-4f01-a086-62ddcfcbbde1",
   "metadata": {},
   "outputs": [
    {
     "data": {
      "text/plain": [
       "array([42.26600592, -0.35798416, -2.90802176])"
      ]
     },
     "execution_count": 142,
     "metadata": {},
     "output_type": "execute_result"
    }
   ],
   "source": [
    "eigenvalues, eigenvectors = linalg.eig(m3)\n",
    "eigenvalues # λ"
   ]
  },
  {
   "cell_type": "code",
   "execution_count": 143,
   "id": "ce91749b-f692-436d-bcfd-fb7fc735f4dc",
   "metadata": {},
   "outputs": [
    {
     "data": {
      "text/plain": [
       "array([[-0.08381182, -0.76283526, -0.18913107],\n",
       "       [-0.3075286 ,  0.64133975, -0.6853186 ],\n",
       "       [-0.94784057, -0.08225377,  0.70325518]])"
      ]
     },
     "execution_count": 143,
     "metadata": {},
     "output_type": "execute_result"
    }
   ],
   "source": [
    "eigenvectors # v"
   ]
  },
  {
   "cell_type": "code",
   "execution_count": 144,
   "id": "2ed0d894-025c-46e9-9cb5-d9ec43948c85",
   "metadata": {},
   "outputs": [
    {
     "data": {
      "text/plain": [
       "array([[ 8.88178420e-15,  2.22044605e-16, -3.10862447e-15],\n",
       "       [ 3.55271368e-15,  2.02615702e-15, -1.11022302e-15],\n",
       "       [ 3.55271368e-14,  3.33413852e-15, -8.43769499e-15]])"
      ]
     },
     "execution_count": 144,
     "metadata": {},
     "output_type": "execute_result"
    }
   ],
   "source": [
    "m3.dot(eigenvectors) - eigenvalues * eigenvectors  # m3.v - λ*v = 0"
   ]
  },
  {
   "cell_type": "markdown",
   "id": "dddabcff-9575-46e7-a71e-4bf8c215b2f3",
   "metadata": {},
   "source": [
    "## Singular Value Decomposition\n",
    "#### The `svd` function takes a matrix and returns its singular value decomposition:"
   ]
  },
  {
   "cell_type": "code",
   "execution_count": 145,
   "id": "bc126b57-48c3-4c2c-a99c-591686b675b6",
   "metadata": {},
   "outputs": [
    {
     "data": {
      "text/plain": [
       "array([[1, 0, 0, 0, 2],\n",
       "       [0, 0, 3, 0, 0],\n",
       "       [0, 0, 0, 0, 0],\n",
       "       [0, 2, 0, 0, 0]])"
      ]
     },
     "execution_count": 145,
     "metadata": {},
     "output_type": "execute_result"
    }
   ],
   "source": [
    "m4 = np.array([[1,0,0,0,2], [0,0,3,0,0], [0,0,0,0,0], [0,2,0,0,0]])\n",
    "m4"
   ]
  },
  {
   "cell_type": "code",
   "execution_count": 146,
   "id": "255c88ae-e986-4ebf-a01d-fc1f15af3915",
   "metadata": {},
   "outputs": [
    {
     "data": {
      "text/plain": [
       "array([[ 0.,  1.,  0.,  0.],\n",
       "       [ 1.,  0.,  0.,  0.],\n",
       "       [ 0.,  0.,  0.,  1.],\n",
       "       [ 0.,  0., -1.,  0.]])"
      ]
     },
     "execution_count": 146,
     "metadata": {},
     "output_type": "execute_result"
    }
   ],
   "source": [
    "U, S_diag, V = linalg.svd(m4)\n",
    "U"
   ]
  },
  {
   "cell_type": "code",
   "execution_count": 147,
   "id": "208905d6-67e2-4231-8a13-fff9792644af",
   "metadata": {},
   "outputs": [
    {
     "data": {
      "text/plain": [
       "array([3.        , 2.23606798, 2.        , 0.        ])"
      ]
     },
     "execution_count": 147,
     "metadata": {},
     "output_type": "execute_result"
    }
   ],
   "source": [
    "S_diag"
   ]
  },
  {
   "cell_type": "markdown",
   "id": "4d0cf5c2-2cca-4d7d-8c29-a917d48a3d66",
   "metadata": {},
   "source": [
    "#### The `svd` function just returns the values in the diagonal of Σ, but we want the full Σ matrix, so let's create it"
   ]
  },
  {
   "cell_type": "code",
   "execution_count": 148,
   "id": "2869f0b4-b468-4ecd-97b2-0abe3a2818ec",
   "metadata": {},
   "outputs": [
    {
     "data": {
      "text/plain": [
       "array([[3.        , 0.        , 0.        , 0.        , 0.        ],\n",
       "       [0.        , 2.23606798, 0.        , 0.        , 0.        ],\n",
       "       [0.        , 0.        , 2.        , 0.        , 0.        ],\n",
       "       [0.        , 0.        , 0.        , 0.        , 0.        ]])"
      ]
     },
     "execution_count": 148,
     "metadata": {},
     "output_type": "execute_result"
    }
   ],
   "source": [
    "S = np.zeros((4, 5))\n",
    "S[np.diag_indices(4)] = S_diag\n",
    "S  # Σ"
   ]
  },
  {
   "cell_type": "code",
   "execution_count": 149,
   "id": "f81f2cd3-bf33-431d-a7c4-664982d60451",
   "metadata": {},
   "outputs": [
    {
     "data": {
      "text/plain": [
       "array([[-0.        ,  0.        ,  1.        , -0.        ,  0.        ],\n",
       "       [ 0.4472136 ,  0.        ,  0.        ,  0.        ,  0.89442719],\n",
       "       [ 0.        , -1.        ,  0.        ,  0.        ,  0.        ],\n",
       "       [ 0.        ,  0.        ,  0.        ,  1.        ,  0.        ],\n",
       "       [-0.89442719,  0.        ,  0.        ,  0.        ,  0.4472136 ]])"
      ]
     },
     "execution_count": 149,
     "metadata": {},
     "output_type": "execute_result"
    }
   ],
   "source": [
    "V"
   ]
  },
  {
   "cell_type": "markdown",
   "id": "ca022222-abc6-452a-8f35-1644876d62f5",
   "metadata": {},
   "source": [
    "## Diagonal and trace"
   ]
  },
  {
   "cell_type": "code",
   "execution_count": 150,
   "id": "65794ce9-6047-4268-a299-6bd1355b5e13",
   "metadata": {},
   "outputs": [
    {
     "data": {
      "text/plain": [
       "array([ 1,  7, 31])"
      ]
     },
     "execution_count": 150,
     "metadata": {},
     "output_type": "execute_result"
    }
   ],
   "source": [
    "np.diag(m3)  # the values in the diagonal of m3 "
   ]
  },
  {
   "cell_type": "code",
   "execution_count": 151,
   "id": "40716e19-e3e9-4a57-b6e1-0fb8d6c2cf17",
   "metadata": {},
   "outputs": [
    {
     "data": {
      "text/plain": [
       "np.int64(39)"
      ]
     },
     "execution_count": 151,
     "metadata": {},
     "output_type": "execute_result"
    }
   ],
   "source": [
    "np.trace(m3) # equivalent to np.diag(m3).sum()"
   ]
  },
  {
   "cell_type": "markdown",
   "id": "43bfd775-1702-4e1e-a100-b446daf908df",
   "metadata": {},
   "source": [
    "## Solving a system of linear scalar equations\n",
    "#### The solve function solves a system of linear scalar equations, such as:"
   ]
  },
  {
   "cell_type": "markdown",
   "id": "dddd9f25-81d9-4820-b4ec-a2043ebe001d",
   "metadata": {},
   "source": [
    "#### 2x = 6y = 6\n",
    "#### 5x = 3y = -9"
   ]
  },
  {
   "cell_type": "code",
   "execution_count": 152,
   "id": "8c4b9391-7cc2-40c4-9c5f-b69bdbd64597",
   "metadata": {},
   "outputs": [
    {
     "data": {
      "text/plain": [
       "array([-3.,  2.])"
      ]
     },
     "execution_count": 152,
     "metadata": {},
     "output_type": "execute_result"
    }
   ],
   "source": [
    "coeffs = np.array([[2, 6], [5, 3]])\n",
    "depvars = np.array([6, -9])\n",
    "solution = linalg.solve(coeffs, depvars)\n",
    "solution"
   ]
  },
  {
   "cell_type": "code",
   "execution_count": 153,
   "id": "c28a303a-40a8-4f08-b687-a2c71ee61d1b",
   "metadata": {},
   "outputs": [
    {
     "data": {
      "text/plain": [
       "(array([ 6., -9.]), array([ 6, -9]))"
      ]
     },
     "execution_count": 153,
     "metadata": {},
     "output_type": "execute_result"
    }
   ],
   "source": [
    "coeffs.dot(solution), depvars"
   ]
  },
  {
   "cell_type": "code",
   "execution_count": 154,
   "id": "c5c43574-dc23-471f-8fba-929ee9ed4584",
   "metadata": {},
   "outputs": [
    {
     "data": {
      "text/plain": [
       "True"
      ]
     },
     "execution_count": 154,
     "metadata": {},
     "output_type": "execute_result"
    }
   ],
   "source": [
    "np.allclose(coeffs.dot(solution), depvars)"
   ]
  },
  {
   "cell_type": "markdown",
   "id": "f5609902-a991-4f40-8472-34371b886e75",
   "metadata": {},
   "source": [
    "## Vectorization\n",
    "#### Instead of executing operations on individual array items, one at a time, your code is much more efficient if you try to stick to array operations. This is called vectorization. This way, you can benefit from NumPy's many optimizations\n"
   ]
  },
  {
   "cell_type": "markdown",
   "id": "cf4b8a1a-8635-4ca5-9802-023f5fade9a1",
   "metadata": {},
   "source": [
    "#### For example, let's say we want to generate a 768x1024 array based on the formula sin(xy/40.5). A bad option would be to do the math in python using nested loops:"
   ]
  },
  {
   "cell_type": "code",
   "execution_count": 155,
   "id": "ca04ec32-f734-4602-9ce4-572aaabda8ed",
   "metadata": {},
   "outputs": [
    {
     "data": {
      "text/plain": [
       "array([[0.        , 0.        , 0.        , ..., 0.        , 0.        ,\n",
       "        0.        ],\n",
       "       [0.        , 0.02468885, 0.04936265, ..., 0.07705885, 0.1016508 ,\n",
       "        0.12618078],\n",
       "       [0.        , 0.04936265, 0.09860494, ..., 0.15365943, 0.20224852,\n",
       "        0.25034449],\n",
       "       ...,\n",
       "       [0.        , 0.03932283, 0.07858482, ..., 0.6301488 , 0.59912825,\n",
       "        0.56718092],\n",
       "       [0.        , 0.06398059, 0.12769901, ..., 0.56844086, 0.51463783,\n",
       "        0.45872596],\n",
       "       [0.        , 0.08859936, 0.17650185, ..., 0.50335246, 0.42481591,\n",
       "        0.34293805]], shape=(768, 1024))"
      ]
     },
     "execution_count": 155,
     "metadata": {},
     "output_type": "execute_result"
    }
   ],
   "source": [
    "import math \n",
    "data = np.empty((768, 1024))\n",
    "for y in range (768):\n",
    "    for x in range(1024):\n",
    "        data[y, x] = math.sin(x*y/40.5)\n",
    "\n",
    "data"
   ]
  },
  {
   "cell_type": "markdown",
   "id": "f784fb9c-2275-4917-8ede-765793f4350f",
   "metadata": {},
   "source": [
    "#### This works, but it’s very slow because both loops run in Python. Let's vectorize this algorithm. First, we will use NumPy's `meshgrid` function which generates coordinate matrices from coordinate vectors.\n",
    "\n"
   ]
  },
  {
   "cell_type": "code",
   "execution_count": 156,
   "id": "91b9d505-b956-4624-ba0c-46be21c7ad7b",
   "metadata": {},
   "outputs": [
    {
     "data": {
      "text/plain": [
       "array([[   0,    1,    2, ..., 1021, 1022, 1023],\n",
       "       [   0,    1,    2, ..., 1021, 1022, 1023],\n",
       "       [   0,    1,    2, ..., 1021, 1022, 1023],\n",
       "       ...,\n",
       "       [   0,    1,    2, ..., 1021, 1022, 1023],\n",
       "       [   0,    1,    2, ..., 1021, 1022, 1023],\n",
       "       [   0,    1,    2, ..., 1021, 1022, 1023]], shape=(768, 1024))"
      ]
     },
     "execution_count": 156,
     "metadata": {},
     "output_type": "execute_result"
    }
   ],
   "source": [
    "x_coords = np.arange(0, 1024)\n",
    "y_coords = np.arange(0, 768)  \n",
    "X, Y = np.meshgrid(x_coords, y_coords)\n",
    "X"
   ]
  },
  {
   "cell_type": "code",
   "execution_count": 157,
   "id": "3d1f29dd-84ba-4a11-9865-99c3cd92f847",
   "metadata": {},
   "outputs": [
    {
     "data": {
      "text/plain": [
       "array([[  0,   0,   0, ...,   0,   0,   0],\n",
       "       [  1,   1,   1, ...,   1,   1,   1],\n",
       "       [  2,   2,   2, ...,   2,   2,   2],\n",
       "       ...,\n",
       "       [765, 765, 765, ..., 765, 765, 765],\n",
       "       [766, 766, 766, ..., 766, 766, 766],\n",
       "       [767, 767, 767, ..., 767, 767, 767]], shape=(768, 1024))"
      ]
     },
     "execution_count": 157,
     "metadata": {},
     "output_type": "execute_result"
    }
   ],
   "source": [
    "Y"
   ]
  },
  {
   "cell_type": "markdown",
   "id": "980d6cc7-a609-47ac-8164-3cf214f2c1eb",
   "metadata": {},
   "source": [
    "#### X and Y are 768x1024 arrays, and all values in X correspond to the horizontal coordinate, while all values in Y correspond to the the vertical coordinate."
   ]
  },
  {
   "cell_type": "code",
   "execution_count": 158,
   "id": "123bc220-4f90-48ef-bc43-0c31dbf2ec27",
   "metadata": {},
   "outputs": [
    {
     "data": {
      "text/plain": [
       "array([[0.        , 0.        , 0.        , ..., 0.        , 0.        ,\n",
       "        0.        ],\n",
       "       [0.        , 0.02468885, 0.04936265, ..., 0.07705885, 0.1016508 ,\n",
       "        0.12618078],\n",
       "       [0.        , 0.04936265, 0.09860494, ..., 0.15365943, 0.20224852,\n",
       "        0.25034449],\n",
       "       ...,\n",
       "       [0.        , 0.03932283, 0.07858482, ..., 0.6301488 , 0.59912825,\n",
       "        0.56718092],\n",
       "       [0.        , 0.06398059, 0.12769901, ..., 0.56844086, 0.51463783,\n",
       "        0.45872596],\n",
       "       [0.        , 0.08859936, 0.17650185, ..., 0.50335246, 0.42481591,\n",
       "        0.34293805]], shape=(768, 1024))"
      ]
     },
     "execution_count": 158,
     "metadata": {},
     "output_type": "execute_result"
    }
   ],
   "source": [
    "data = np.sin(X*Y/40.5)\n",
    "data"
   ]
  },
  {
   "cell_type": "markdown",
   "id": "7857a099-f01f-4984-a372-dda1e79615a6",
   "metadata": {},
   "source": [
    "#### Now we can plot this data using matplotlib's `imshow` function"
   ]
  },
  {
   "cell_type": "code",
   "execution_count": 159,
   "id": "a89f47cc-587b-4908-b0d2-854a3b7344a2",
   "metadata": {},
   "outputs": [
    {
     "data": {
      "image/png": "[encoded data removed]",
      "text/plain": [
       "<Figure size 700x600 with 1 Axes>"
      ]
     },
     "metadata": {},
     "output_type": "display_data"
    }
   ],
   "source": [
    "import matplotlib.pyplot as plt \n",
    "import matplotlib.cm as cm \n",
    "fig = plt.figure(1, figsize=(7,6))\n",
    "plt.imshow(data, cmap=cm.hot, interpolation=\"bicubic\")\n",
    "plt.show()"
   ]
  },
  {
   "cell_type": "markdown",
   "id": "9534e9c6-856a-4c33-b297-d12e92fec6a2",
   "metadata": {},
   "source": [
    "## Saving and loading\n",
    "#### NumPy makes it easy to save and load ndarrays in binary or text format.\n",
    "\n"
   ]
  },
  {
   "cell_type": "markdown",
   "id": "e3b7ba7f-8f1a-4fea-831d-77f159ca372f",
   "metadata": {},
   "source": [
    "## Binary `.npy` format"
   ]
  },
  {
   "cell_type": "code",
   "execution_count": 160,
   "id": "d338500d-5a62-4566-91ad-4b64cf929b33",
   "metadata": {},
   "outputs": [
    {
     "data": {
      "text/plain": [
       "array([[0.91581744, 0.43107636, 0.93945885],\n",
       "       [0.23131331, 0.56447071, 0.74106318]])"
      ]
     },
     "execution_count": 160,
     "metadata": {},
     "output_type": "execute_result"
    }
   ],
   "source": [
    "a = np.random.rand(2, 3)\n",
    "a"
   ]
  },
  {
   "cell_type": "code",
   "execution_count": 161,
   "id": "11408012-650f-4afb-9b73-d15ad1b9236d",
   "metadata": {},
   "outputs": [],
   "source": [
    "np.save(\"my_array\", a)"
   ]
  },
  {
   "cell_type": "code",
   "execution_count": 162,
   "id": "8cb82f3f-47c2-4c0c-894f-166da4ecbe9f",
   "metadata": {},
   "outputs": [
    {
     "data": {
      "text/plain": [
       "b\"\\x93NUMPY\\x01\\x00v\\x00{'descr': '<f8', 'fortran_order': False, 'shape': (2, 3), }                                                          \\n\\x15\\x05f_`N\\xed?p\\xdeyJ\\xc1\\x96\\xdb?\\xd7\\xcdg\\xff\\x0b\\x10\\xee?\\xf8\\x11\\x1d\\xad\\xac\\x9b\\xcd?\\x14\\xff\\xe3\\xe0$\\x10\\xe2?\\xaa\\xb7\\xdd#\\xca\\xb6\\xe7?\""
      ]
     },
     "execution_count": 162,
     "metadata": {},
     "output_type": "execute_result"
    }
   ],
   "source": [
    "with open(\"my_array.npy\", \"rb\") as f:\n",
    "    content = f.read()\n",
    "content"
   ]
  },
  {
   "cell_type": "code",
   "execution_count": 163,
   "id": "ac67dd73-162f-4954-ab8a-d9df5f5893c5",
   "metadata": {},
   "outputs": [
    {
     "data": {
      "text/plain": [
       "array([[0.91581744, 0.43107636, 0.93945885],\n",
       "       [0.23131331, 0.56447071, 0.74106318]])"
      ]
     },
     "execution_count": 163,
     "metadata": {},
     "output_type": "execute_result"
    }
   ],
   "source": [
    "a_lodded = np.load(\"my_array.npy\")\n",
    "a_lodded"
   ]
  },
  {
   "cell_type": "markdown",
   "id": "48b4c777-7b6d-4f2d-a2bd-62654bff19a8",
   "metadata": {},
   "source": [
    "## Text format\n",
    "#### Let's try saving the array in text format:\n",
    "\n"
   ]
  },
  {
   "cell_type": "code",
   "execution_count": 164,
   "id": "cd408cd0-ef3a-48af-9dd8-145a88d475e8",
   "metadata": {},
   "outputs": [],
   "source": [
    "np.savetxt(\"my_array.csv\", a)"
   ]
  },
  {
   "cell_type": "markdown",
   "id": "91704c22-afce-4325-9c7a-e3eb3dc7898b",
   "metadata": {},
   "source": [
    "#### Now let's look at the file content:"
   ]
  },
  {
   "cell_type": "code",
   "execution_count": 165,
   "id": "faf4f973-27a3-4ef1-b99e-dbb57894a9f0",
   "metadata": {},
   "outputs": [
    {
     "name": "stdout",
     "output_type": "stream",
     "text": [
      "9.158174384357687936e-01 4.310763575844935858e-01 9.394588459385272428e-01\n",
      "2.313133092194588070e-01 5.644707100291008750e-01 7.410631847867439337e-01\n",
      "\n"
     ]
    }
   ],
   "source": [
    "with open(\"my_array.csv\", \"rt\") as f:\n",
    "    print(f.read())"
   ]
  },
  {
   "cell_type": "markdown",
   "id": "c7b21884-f553-45a5-939a-b4e2e1da6b3e",
   "metadata": {},
   "source": [
    "#### This is a CSV file with tabs as delimiters. You can set a different delimiter:"
   ]
  },
  {
   "cell_type": "code",
   "execution_count": 166,
   "id": "63997aa1-6d72-4c19-8141-5e5557844850",
   "metadata": {},
   "outputs": [],
   "source": [
    "np.savetxt(\"my_array.csv\", a, delimiter=\",\")"
   ]
  },
  {
   "cell_type": "markdown",
   "id": "a4eeee61-0b3f-4798-9fc5-16f0b8812b8e",
   "metadata": {},
   "source": [
    "#### To load this file, just use `loadtxt` :"
   ]
  },
  {
   "cell_type": "code",
   "execution_count": 167,
   "id": "34d0ed99-e114-4d5a-bbce-c026a43cd934",
   "metadata": {},
   "outputs": [
    {
     "data": {
      "text/plain": [
       "array([[0.91581744, 0.43107636, 0.93945885],\n",
       "       [0.23131331, 0.56447071, 0.74106318]])"
      ]
     },
     "execution_count": 167,
     "metadata": {},
     "output_type": "execute_result"
    }
   ],
   "source": [
    "a_lodded = np.loadtxt(\"my_array.csv\", delimiter=\",\")\n",
    "a_lodded"
   ]
  },
  {
   "cell_type": "markdown",
   "id": "75950030-831b-44dd-a0bc-922589f0c2fe",
   "metadata": {},
   "source": [
    "## Zipped `.npz` format\n",
    "#### It is also possible to save multiple arrays in one zipped file:\n",
    "\n"
   ]
  },
  {
   "cell_type": "code",
   "execution_count": 168,
   "id": "550e62f9-e53b-42f6-8b36-1514189920a5",
   "metadata": {},
   "outputs": [
    {
     "data": {
      "text/plain": [
       "array([[[ 0,  1,  2,  3],\n",
       "        [ 4,  5,  6,  7],\n",
       "        [ 8,  9, 10, 11]],\n",
       "\n",
       "       [[12, 13, 14, 15],\n",
       "        [16, 17, 18, 19],\n",
       "        [20, 21, 22, 23]]], dtype=uint8)"
      ]
     },
     "execution_count": 168,
     "metadata": {},
     "output_type": "execute_result"
    }
   ],
   "source": [
    "b = np.arange(24, dtype=np.uint8).reshape(2,3,4)\n",
    "b"
   ]
  },
  {
   "cell_type": "code",
   "execution_count": 169,
   "id": "f9595761-0e8b-41a6-85da-f7dfb98dcd93",
   "metadata": {},
   "outputs": [],
   "source": [
    "np.savez(\"my_array\", my_a=a, my_b=b)"
   ]
  },
  {
   "cell_type": "markdown",
   "id": "dfa8e455-019f-46a5-a5c8-eb96286b7bad",
   "metadata": {},
   "source": [
    "#### Again, let's take a peek at the file content. Note that the .npz file extension was automatically added."
   ]
  },
  {
   "cell_type": "code",
   "execution_count": 170,
   "id": "cba2159c-c902-4a6f-bdaf-bda85dc702ad",
   "metadata": {},
   "outputs": [
    {
     "data": {
      "text/plain": [
       "'b\"PK\\\\x03\\\\x04-\\\\x00\\\\x00\\\\x00\\\\x00\\\\x00\\\\x00\\\\x00!\\\\x00\\\\xed\\\\x98\\\\xec\\\\xff\\\\xff\\\\xff\\\\xff\\\\xff\\\\xff\\\\xff\\\\xff\\\\xff\\\\x08\\\\x00\\\\x14\\\\x00my_a.npy\\\\x01\\\\x00\\\\x10\\\\x00\\\\xb0\\\\x00\\\\x00\\\\x00\\\\x00\\\\x00\\\\x00\\\\x00\\\\xb0\\\\x00\\\\x00\\\\x[...]'"
      ]
     },
     "execution_count": 170,
     "metadata": {},
     "output_type": "execute_result"
    }
   ],
   "source": [
    "with open(\"my_array.npz\", \"rb\") as f:\n",
    "    content = f.read()\n",
    "repr(content)[:180] + \"[...]\""
   ]
  },
  {
   "cell_type": "code",
   "execution_count": 171,
   "id": "33761c44-cc1c-4a56-b0a8-249c676a2c29",
   "metadata": {},
   "outputs": [
    {
     "data": {
      "text/plain": [
       "NpzFile 'my_array.npz' with keys: my_a, my_b"
      ]
     },
     "execution_count": 171,
     "metadata": {},
     "output_type": "execute_result"
    }
   ],
   "source": [
    "my_arrays = np.load(\"my_array.npz\")\n",
    "my_arrays"
   ]
  },
  {
   "cell_type": "markdown",
   "id": "206f086c-5345-42f1-9d4e-511c06b049e9",
   "metadata": {},
   "source": [
    "#### This is a dict-like object which loads the arrays lazily:"
   ]
  },
  {
   "cell_type": "code",
   "execution_count": 172,
   "id": "90f44f3b-6c51-434a-ae84-6df5acac4669",
   "metadata": {},
   "outputs": [
    {
     "data": {
      "text/plain": [
       "KeysView(NpzFile 'my_array.npz' with keys: my_a, my_b)"
      ]
     },
     "execution_count": 172,
     "metadata": {},
     "output_type": "execute_result"
    }
   ],
   "source": [
    "my_arrays.keys()"
   ]
  },
  {
   "cell_type": "code",
   "execution_count": 173,
   "id": "0af82c43-4521-4e44-9638-798264f60a90",
   "metadata": {},
   "outputs": [
    {
     "data": {
      "text/plain": [
       "array([[0.91581744, 0.43107636, 0.93945885],\n",
       "       [0.23131331, 0.56447071, 0.74106318]])"
      ]
     },
     "execution_count": 173,
     "metadata": {},
     "output_type": "execute_result"
    }
   ],
   "source": [
    "my_arrays['my_a']"
   ]
  },
  {
   "cell_type": "code",
   "execution_count": 174,
   "id": "2c4e788d-f63a-4b86-bf35-1ae6fdf43c3b",
   "metadata": {},
   "outputs": [
    {
     "data": {
      "text/plain": [
       "array([[[ 0,  1,  2,  3],\n",
       "        [ 4,  5,  6,  7],\n",
       "        [ 8,  9, 10, 11]],\n",
       "\n",
       "       [[12, 13, 14, 15],\n",
       "        [16, 17, 18, 19],\n",
       "        [20, 21, 22, 23]]], dtype=uint8)"
      ]
     },
     "execution_count": 174,
     "metadata": {},
     "output_type": "execute_result"
    }
   ],
   "source": [
    "my_arrays[\"my_b\"]"
   ]
  }
 ],
 "metadata": {
  "kernelspec": {
   "display_name": "Python 3 (ipykernel)",
   "language": "python",
   "name": "python3"
  },
  "language_info": {
   "codemirror_mode": {
    "name": "ipython",
    "version": 3
   },
   "file_extension": ".py",
   "mimetype": "text/x-python",
   "name": "python",
   "nbconvert_exporter": "python",
   "pygments_lexer": "ipython3",
   "version": "3.13.1"
  },
  "widgets": {
   "application/vnd.jupyter.widget-state+json": {
    "state": {},
    "version_major": 2,
    "version_minor": 0
   }
  }
 },
 "nbformat": 4,
 "nbformat_minor": 5
}
